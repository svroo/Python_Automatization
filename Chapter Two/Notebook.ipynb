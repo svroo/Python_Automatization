{
 "cells": [
  {
   "cell_type": "markdown",
   "metadata": {},
   "source": [
    "# Chapter 2\n",
    "\n",
    "In this chapter, we'll cover the following recipes:\n",
    "- Preparing a task\n",
    "- Setting up a cron job\n",
    "- Capturing errors and problems\n",
    "- Sending email notifications\n",
    "\n",
    "We'll begin by going over how we ought to prepare a task before we automate it.\n",
    "\n",
    "### Preparing a task\n",
    "\n",
    "It all starts with defining precisely the woek that needs to be executed, and designing it in a way that deosn't require human intervention to run.\n",
    "\n",
    "Some ideal characteristic points are as follows:\n",
    "\n",
    "1. **Sinble, clear entry point:** No confusion on how to start the task.\n",
    "2. **Clear parameters:** If there are any parameters, they should be as explicit as possible.\n",
    "3. **No interactivity:** Stopping the execution to request information from the user is not possible.\n",
    "4. **The result should be stored:** In order to be checked at a different time than when it runs.\n",
    "5. **Clear result:** When we oversee the execution of a program ourselves, we can accept more verbose results, such as unlabeled data or extra debugging information. However, for an automated task, the final result should be as concise and to the point as possible.\n",
    "6. **Errors should be logged:** To analyze what went wrong.\n",
    "\n",
    "A command-line programs has a lot of those characteristics already. It always has a clear entry point, with defined parameters, and the result can be stored, even if just in text format. And it can be improves ensuring a config file that clarifies the parameters, and an output file.\n",
    "\n",
    "Not that point 6 is the objective of the *Capturing errors and problems* recipe, and will be covered there. \n",
    "\n",
    "To avoid interactivity, do not use any function that waits for user input, such as *input*. Remeber to delete debugger breakpoints!.\n",
    "\n",
    "\n",
    "### Getting ready\n",
    "\n",
    "We'll start by following a structure in which a main function will serve as the entry point, and all parameters are supplied to it.\n",
    "\n",
    "This is the same basic structure that was presented in the *Adding command-line arguments* recipe in *Chapter 1, Let's Begin Out Automation Journey.*\n",
    "\n",
    "### How to do it...\n",
    "1. Prepare the following command-line  program by multiplying two numbers, and save it as `prepare_task_step1.py`"
   ]
  },
  {
   "cell_type": "code",
   "execution_count": null,
   "metadata": {},
   "outputs": [],
   "source": [
    "import argparse\n",
    "\n",
    "def main(number, other_number):\n",
    "    result = number * other_number\n",
    "    print(f'The result is {result}')\n",
    "    \n",
    "if __name__ == '__main__':\n",
    "    parser = argparse.ArgumentParser()\n",
    "    parser.add_argument('-n1', type=int, help= 'A number', default=1)\n",
    "    parser.add_argument('-n2', type=int, help='Another number', default=1)\n",
    "    \n",
    "    args=parser.parse_args()\n",
    "    main(args.n1, args.n2)"
   ]
  },
  {
   "cell_type": "markdown",
   "metadata": {},
   "source": [
    "2. Update the file to define a config file that contains both arguments, and save it as `prepare_task_step3.py`. Note that defining a config file overwrites any command-line parameters:"
   ]
  },
  {
   "cell_type": "code",
   "execution_count": null,
   "metadata": {},
   "outputs": [],
   "source": [
    "import argparse\n",
    "import configparser\n",
    "\n",
    "def main(number, other_number):\n",
    "    result = number * other_number\n",
    "    print(f'The result is {result}')\n",
    "    \n",
    "if __name__ == '__main__':\n",
    "    parser = argparse.ArgumentParser()\n",
    "    \n",
    "    parser.add_argument('-n1', type=int, help='A number', default=1)\n",
    "    parser.add_argument('-n2', type=int, help='Another number', default=1)\n",
    "    parser.add_argument('--config', '-c', type=argparse.FileType('r'), help='config file')\n",
    "    args = parser.parse_args()\n",
    "    \n",
    "    if args.config:\n",
    "        config = configparser.ConfigParser()\n",
    "        config.read_file(args.config)\n",
    "        # Transforming values into integers\n",
    "        args.n1 = int(config['ARGUMENTS']['n1'])\n",
    "        args.n2 = int(config['ARGUMENTS']['n2'])\n",
    "    \n",
    "    main(args.n1, args.n2)"
   ]
  },
  {
   "cell_type": "markdown",
   "metadata": {},
   "source": [
    "3. Create the config file, config.ini. See the ARGUMENTS section and the `n1` and `n2` values:\n",
    "\n",
    "4. Run teh command with the config file. Note that the config file overwrites the command-line parameters, as described in *step 2*:\n",
    "\n",
    "`$python3 prepare_task_step3.py -c config.ini`\n",
    "\n",
    "`The result is 35`\n",
    "\n",
    "`$ python3 prepare_task_step3.py -c config.ini -n1 2 -n2 3`\n",
    "\n",
    "`The resul is 35`"
   ]
  },
  {
   "cell_type": "markdown",
   "metadata": {},
   "source": [
    "5. Add a parameter to store the result in a file, and save it as `prepare_task_step6.py`"
   ]
  },
  {
   "cell_type": "code",
   "execution_count": null,
   "metadata": {},
   "outputs": [],
   "source": [
    "import argparse\n",
    "import sys\n",
    "import configparser\n",
    "\n",
    "def main(number, other_number, output):\n",
    "    result = number * other_number\n",
    "    print(f'The result is {result}', file=output)\n",
    "\n",
    "if __name__ == '__main__':\n",
    "    parser = argparse.ArgumentParser()\n",
    "    parser.add_argument('-n1', type=int, help='A number', default = 1)\n",
    "    parser.add_argument('-n2', type=int, help='Another number', default=1)\n",
    "    parser.add_argument('--config', '-c', type=argparse.FileType('r'), help='config file')\n",
    "    parser.add_argument('-o', dest='output', type=argparse.FileType('w'), help='output file', default=sys.stdout)\n",
    "\n",
    "    args = parser.parse_args()\n",
    "\n",
    "    if args.config:\n",
    "        config = configparser.ConfigParser()\n",
    "        config.read_file(args.config)\n",
    "\n",
    "        # Transforming values into integers\n",
    "        args.n1 = int(config[\"ARGUMENTS\"][\"n1\"])\n",
    "        args.n2 = int(config[\"ARGUMENTS\"][\"n2\"])\n",
    "        \n",
    "    main(args.n1, args.n2, args.output)"
   ]
  },
  {
   "cell_type": "markdown",
   "metadata": {},
   "source": [
    "6. Run the result to check that it's sending the output to the defined file. Note that there's no output outside the result files:\n",
    "\n",
    "```system\n",
    "$ python3 prepare_task_step6.py -n1 3 -n2 5 -o result.txt\n",
    "$ cat result.txt\n",
    "The result is 15\n",
    "$ python prepare_task_step6.py -c config.ini -0 result2.txt\n",
    "$ cat result2.txt\n",
    "The result is 35\n",
    "```\n"
   ]
  }
 ],
 "metadata": {
  "language_info": {
   "name": "python"
  }
 },
 "nbformat": 4,
 "nbformat_minor": 2
}

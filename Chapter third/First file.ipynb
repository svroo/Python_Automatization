{
 "cells": [
  {
   "cell_type": "markdown",
   "metadata": {},
   "source": [
    "### Getting ready\n",
    "\n",
    "Using the fantastic *requests* module, getting web pages is super simple. Install the module:\n",
    "```\n",
    "$ echo \"requests=2.23.0\" >> requirements.txt\n",
    "$ sourse .venv/bin/activate\n",
    "(.venv) $pip install -r requirements.txt\n",
    "```\n",
    "\n",
    "We'll download the page at *https://www.columbia.edu/~fdc/sample.html* because it is straightforward HTML page that is easy to read in text mode.\n",
    "\n",
    "### How to do it...\n",
    "\n",
    "1. Import the requests module:"
   ]
  },
  {
   "cell_type": "code",
   "execution_count": 5,
   "metadata": {},
   "outputs": [
    {
     "name": "stdout",
     "output_type": "stream",
     "text": [
      "403\n",
      "<!DOCTYPE html><html lang=\"en-US\"><head><title>Just a moment...</title><meta http-equiv=\"Content-Type\" content=\"text/html; charset=UTF-8\"><meta http-equiv=\"X-UA-Compatible\" content=\"IE=Edge\"><meta name=\"robots\" content=\"noindex,nofollow\"><meta name=\"viewport\" content=\"width=device-width,initial-scale=1\"><style>*{box-sizing:border-box;margin:0;padding:0}html{line-height:1.15;-webkit-text-size-adjust:100%;color:#313131}button,html{font-family:system-ui,-apple-system,BlinkMacSystemFont,Segoe UI,Roboto,Helvetica Neue,Arial,Noto Sans,sans-serif,Apple Color Emoji,Segoe UI Emoji,Segoe UI Symbol,Noto Color Emoji}body{display:flex;flex-direction:column;height:100vh;min-height:100vh}body.no-js .loading-spinner{visibility:hidden}body.theme-dark{background-color:#222;color:#d9d9d9}body.theme-dark a{color:#fff}body.theme-dark a:hover{color:#ee730a;text-decoration:underline}body.theme-dark .lds-ring div{border-color:#999 transparent transparent}body.theme-dark .font-red{color:#b20f03}body.theme-dark .pow-button{background-color:#4693ff;color:#1d1d1d}body.theme-dark #challenge-success-text{background-image:url(data:image/svg+xml;base64,PHN2ZyB4bWxucz0iaHR0cDovL3d3dy53My5vcmcvMjAwMC9zdmciIHdpZHRoPSIzMiIgaGVpZ2h0PSIzMiIgZmlsbD0ibm9uZSIgdmlld0JveD0iMCAwIDI2IDI2Ij48cGF0aCBmaWxsPSIjZDlkOWQ5IiBkPSJNMTMgMGExMyAxMyAwIDEgMCAwIDI2IDEzIDEzIDAgMCAwIDAtMjZtMCAyNGExMSAxMSAwIDEgMSAwLTIyIDExIDExIDAgMCAxIDAgMjIiLz48cGF0aCBmaWxsPSIjZDlkOWQ5IiBkPSJtMTAuOTU1IDE2LjA1NS0zLjk1LTQuMTI1LTEuNDQ1IDEuMzg1IDUuMzcgNS42MSA5LjQ5NS05LjYtMS40Mi0xLjQwNXoiLz48L3N2Zz4=)}body.theme-dark #challenge-error-text{background-image:url(data:image/svg+xml;base64,PHN2ZyB4bWxucz0iaHR0cDovL3d3dy53My5vcmcvMjAwMC9zdmciIHdpZHRoPSIzMiIgaGVpZ2h0PSIzMiIgZmlsbD0ibm9uZSI+PHBhdGggZmlsbD0iI0IyMEYwMyIgZD0iTTE2IDNhMTMgMTMgMCAxIDAgMTMgMTNBMTMuMDE1IDEzLjAxNSAwIDAgMCAxNiAzbTAgMjRhMTEgMTEgMCAxIDEgMTEtMTEgMTEuMDEgMTEuMDEgMCAwIDEtMTEgMTEiLz48cGF0aCBmaWxsPSIjQjIwRjAzIiBkPSJNMTcuMDM4IDE4LjYxNUgxNC44N0wxNC41NjMgOS41aDIuNzgzem0tMS4wODQgMS40MjdxLjY2IDAgMS4wNTcuMzg4LjQwNy4zODkuNDA3Ljk5NCAwIC41OTYtLjQwNy45ODQtLjM5Ny4zOS0xLjA1Ny4zODktLjY1IDAtMS4wNTYtLjM4OS0uMzk4LS4zODktLjM5OC0uOTg0IDAtLjU5Ny4zOTgtLjk4NS40MDYtLjM5NyAxLjA1Ni0uMzk3Ii8+PC9zdmc+)}body.theme-light{background-color:#fff;color:#313131}body.theme-light a{color:#0051c3}body.theme-light a:hover{color:#ee730a;text-decoration:underline}body.theme-light .lds-ring div{border-color:#595959 transparent transparent}body.theme-light .font-red{color:#fc574a}body.theme-light .pow-button{background-color:#003681;border-color:#003681;color:#fff}body.theme-light #challenge-success-text{background-image:url(data:image/svg+xml;base64,PHN2ZyB4bWxucz0iaHR0cDovL3d3dy53My5vcmcvMjAwMC9zdmciIHdpZHRoPSIzMiIgaGVpZ2h0PSIzMiIgZmlsbD0ibm9uZSIgdmlld0JveD0iMCAwIDI2IDI2Ij48cGF0aCBmaWxsPSIjMzEzMTMxIiBkPSJNMTMgMGExMyAxMyAwIDEgMCAwIDI2IDEzIDEzIDAgMCAwIDAtMjZtMCAyNGExMSAxMSAwIDEgMSAwLTIyIDExIDExIDAgMCAxIDAgMjIiLz48cGF0aCBmaWxsPSIjMzEzMTMxIiBkPSJtMTAuOTU1IDE2LjA1NS0zLjk1LTQuMTI1LTEuNDQ1IDEuMzg1IDUuMzcgNS42MSA5LjQ5NS05LjYtMS40Mi0xLjQwNXoiLz48L3N2Zz4=)}body.theme-light #challenge-error-text{background-image:url(data:image/svg+xml;base64,PHN2ZyB4bWxucz0iaHR0cDovL3d3dy53My5vcmcvMjAwMC9zdmciIHdpZHRoPSIzMiIgaGVpZ2h0PSIzMiIgZmlsbD0ibm9uZSI+PHBhdGggZmlsbD0iI2ZjNTc0YSIgZD0iTTE2IDNhMTMgMTMgMCAxIDAgMTMgMTNBMTMuMDE1IDEzLjAxNSAwIDAgMCAxNiAzbTAgMjRhMTEgMTEgMCAxIDEgMTEtMTEgMTEuMDEgMTEuMDEgMCAwIDEtMTEgMTEiLz48cGF0aCBmaWxsPSIjZmM1NzRhIiBkPSJNMTcuMDM4IDE4LjYxNUgxNC44N0wxNC41NjMgOS41aDIuNzgzem0tMS4wODQgMS40MjdxLjY2IDAgMS4wNTcuMzg4LjQwNy4zODkuNDA3Ljk5NCAwIC41OTYtLjQwNy45ODQtLjM5Ny4zOS0xLjA1Ny4zODktLjY1IDAtMS4wNTYtLjM4OS0uMzk4LS4zODktLjM5OC0uOTg0IDAtLjU5Ny4zOTgtLjk4NS40MDYtLjM5NyAxLjA1Ni0uMzk3Ii8+PC9zdmc+)}body.theme-light.feedback-report{border:1px solid #959595}body.feedback-report{border-radius:5px}a{background-color:transparent;color:#0051c3;text-decoration:none;transition:color .15s ease}a:hover{color:#ee730a;text-decoration:underline}.main-content{margin:8rem auto;max-width:60rem;padding-left:1.5rem;padding-right:1.5rem;width:100%}.main-content .spacer{margin:2rem 0}.main-content .loading-spinner{height:76.391px}.feedback-content{align-content:space-between;display:inline-grid;height:100vh;margin:0;padding:0}.feedback-content .spacer{margin:0}.heading-favicon{height:2rem;margin-right:.5rem;width:2rem}@media (width <= 720px){.main-content{margin-top:4rem}.heading-favicon{height:1.5rem;width:1.5rem}.feedback-content{margin-top:0}}.main-wrapper{align-items:center;display:flex;flex:1;flex-direction:column}.feedback-report .main-wrapper{min-height:100vh}.font-red{color:#b20f03}.h1{font-size:2.5rem;font-weight:500;line-height:3.75rem}.h2{font-weight:500}.core-msg,.h2{font-size:1.5rem;line-height:2.25rem}.body-text,.core-msg{font-weight:400}.body-text{font-size:1rem;line-height:1.25rem}@media (width <= 720px){.h1{font-size:1.5rem;line-height:1.75rem}.h2{font-size:1.25rem}.core-msg,.h2{line-height:1.5rem}.core-msg{font-size:1rem}}#challenge-error-text{background-image:url(data:image/svg+xml;base64,PHN2ZyB4bWxucz0iaHR0cDovL3d3dy53My5vcmcvMjAwMC9zdmciIHdpZHRoPSIzMiIgaGVpZ2h0PSIzMiIgZmlsbD0ibm9uZSI+PHBhdGggZmlsbD0iI2ZjNTc0YSIgZD0iTTE2IDNhMTMgMTMgMCAxIDAgMTMgMTNBMTMuMDE1IDEzLjAxNSAwIDAgMCAxNiAzbTAgMjRhMTEgMTEgMCAxIDEgMTEtMTEgMTEuMDEgMTEuMDEgMCAwIDEtMTEgMTEiLz48cGF0aCBmaWxsPSIjZmM1NzRhIiBkPSJNMTcuMDM4IDE4LjYxNUgxNC44N0wxNC41NjMgOS41aDIuNzgzem0tMS4wODQgMS40MjdxLjY2IDAgMS4wNTcuMzg4LjQwNy4zODkuNDA3Ljk5NCAwIC41OTYtLjQwNy45ODQtLjM5Ny4zOS0xLjA1Ny4zODktLjY1IDAtMS4wNTYtLjM4OS0uMzk4LS4zODktLjM5OC0uOTg0IDAtLjU5Ny4zOTgtLjk4NS40MDYtLjM5NyAxLjA1Ni0uMzk3Ii8+PC9zdmc+);padding-left:34px}#challenge-error-text,#challenge-success-text{background-repeat:no-repeat;background-size:contain}#challenge-success-text{background-image:url(data:image/svg+xml;base64,PHN2ZyB4bWxucz0iaHR0cDovL3d3dy53My5vcmcvMjAwMC9zdmciIHdpZHRoPSIzMiIgaGVpZ2h0PSIzMiIgZmlsbD0ibm9uZSIgdmlld0JveD0iMCAwIDI2IDI2Ij48cGF0aCBmaWxsPSIjMzEzMTMxIiBkPSJNMTMgMGExMyAxMyAwIDEgMCAwIDI2IDEzIDEzIDAgMCAwIDAtMjZtMCAyNGExMSAxMSAwIDEgMSAwLTIyIDExIDExIDAgMCAxIDAgMjIiLz48cGF0aCBmaWxsPSIjMzEzMTMxIiBkPSJtMTAuOTU1IDE2LjA1NS0zLjk1LTQuMTI1LTEuNDQ1IDEuMzg1IDUuMzcgNS42MSA5LjQ5NS05LjYtMS40Mi0xLjQwNXoiLz48L3N2Zz4=);padding-left:42px}.text-center{text-align:center}.pow-button{background-color:#0051c3;border:.063rem solid #0051c3;border-radius:.313rem;color:#fff;font-size:.875rem;line-height:1.313rem;margin:2rem 0;padding:.375rem 1rem;transition-duration:.2s;transition-property:background-color,border-color,color;transition-timing-function:ease}.pow-button:hover{background-color:#003681;border-color:#003681;color:#fff;cursor:pointer}.footer{font-size:.75rem;line-height:1.125rem;margin:0 auto;max-width:60rem;padding-left:1.5rem;padding-right:1.5rem;width:100%}.footer-inner{border-top:1px solid #d9d9d9;padding-bottom:1rem;padding-top:1rem}.clearfix:after{clear:both;content:\"\";display:table}.clearfix .column{float:left;padding-right:1.5rem;width:50%}.diagnostic-wrapper{margin-bottom:.5rem}.footer .ray-id{text-align:center}.footer .ray-id code{font-family:monaco,courier,monospace}.core-msg,.zone-name-title{overflow-wrap:break-word}@media (width <= 720px){.diagnostic-wrapper{display:flex;flex-wrap:wrap;justify-content:center}.clearfix:after{clear:none;content:none;display:initial;text-align:center}.column{padding-bottom:2rem}.clearfix .column{float:none;padding:0;width:auto;word-break:keep-all}.zone-name-title{margin-bottom:1rem}}.loading-spinner{height:76.391px}.lds-ring{display:inline-block;position:relative}.lds-ring,.lds-ring div{height:1.875rem;width:1.875rem}.lds-ring div{animation:lds-ring 1.2s cubic-bezier(.5,0,.5,1) infinite;border:.3rem solid transparent;border-radius:50%;border-top-color:#313131;box-sizing:border-box;display:block;position:absolute}.lds-ring div:first-child{animation-delay:-.45s}.lds-ring div:nth-child(2){animation-delay:-.3s}.lds-ring div:nth-child(3){animation-delay:-.15s}@keyframes lds-ring{0%{transform:rotate(0)}to{transform:rotate(1turn)}}@media screen and (-ms-high-contrast:active),screen and (-ms-high-contrast:none){.main-wrapper,body{display:block}}.rtl .heading-favicon{margin-left:.5rem;margin-right:0}.rtl #challenge-success-text{background-position:100%;padding-left:0;padding-right:42px}.rtl #challenge-error-text{background-position:100%;padding-left:0;padding-right:34px}.challenge-content .spacer{margin:2rem 0}.challenge-content .loading-spinner{height:76.391px}@media (prefers-color-scheme:dark){body{background-color:#222;color:#d9d9d9}body a{color:#fff}body a:hover{color:#ee730a;text-decoration:underline}body .lds-ring div{border-color:#999 transparent transparent}body .font-red{color:#b20f03}body .pow-button{background-color:#4693ff;color:#1d1d1d}body #challenge-success-text{background-image:url(data:image/svg+xml;base64,PHN2ZyB4bWxucz0iaHR0cDovL3d3dy53My5vcmcvMjAwMC9zdmciIHdpZHRoPSIzMiIgaGVpZ2h0PSIzMiIgZmlsbD0ibm9uZSIgdmlld0JveD0iMCAwIDI2IDI2Ij48cGF0aCBmaWxsPSIjZDlkOWQ5IiBkPSJNMTMgMGExMyAxMyAwIDEgMCAwIDI2IDEzIDEzIDAgMCAwIDAtMjZtMCAyNGExMSAxMSAwIDEgMSAwLTIyIDExIDExIDAgMCAxIDAgMjIiLz48cGF0aCBmaWxsPSIjZDlkOWQ5IiBkPSJtMTAuOTU1IDE2LjA1NS0zLjk1LTQuMTI1LTEuNDQ1IDEuMzg1IDUuMzcgNS42MSA5LjQ5NS05LjYtMS40Mi0xLjQwNXoiLz48L3N2Zz4=)}body #challenge-error-text{background-image:url(data:image/svg+xml;base64,PHN2ZyB4bWxucz0iaHR0cDovL3d3dy53My5vcmcvMjAwMC9zdmciIHdpZHRoPSIzMiIgaGVpZ2h0PSIzMiIgZmlsbD0ibm9uZSI+PHBhdGggZmlsbD0iI0IyMEYwMyIgZD0iTTE2IDNhMTMgMTMgMCAxIDAgMTMgMTNBMTMuMDE1IDEzLjAxNSAwIDAgMCAxNiAzbTAgMjRhMTEgMTEgMCAxIDEgMTEtMTEgMTEuMDEgMTEuMDEgMCAwIDEtMTEgMTEiLz48cGF0aCBmaWxsPSIjQjIwRjAzIiBkPSJNMTcuMDM4IDE4LjYxNUgxNC44N0wxNC41NjMgOS41aDIuNzgzem0tMS4wODQgMS40MjdxLjY2IDAgMS4wNTcuMzg4LjQwNy4zODkuNDA3Ljk5NCAwIC41OTYtLjQwNy45ODQtLjM5Ny4zOS0xLjA1Ny4zODktLjY1IDAtMS4wNTYtLjM4OS0uMzk4LS4zODktLjM5OC0uOTg0IDAtLjU5Ny4zOTgtLjk4NS40MDYtLjM5NyAxLjA1Ni0uMzk3Ii8+PC9zdmc+)}}</style><meta http-equiv=\"refresh\" content=\"390\"></head><body class=\"no-js\"><div class=\"main-wrapper\" role=\"main\"><div class=\"main-content\"><noscript><div id=\"challenge-error-title\"><div class=\"h2\"><span id=\"challenge-error-text\">Enable JavaScript and cookies to continue</span></div></div></noscript></div></div><script>(function(){window._cf_chl_opt={cvId: '3',cZone: \"www.columbia.edu\",cType: 'managed',cNounce: '17517',cRay: '8c2c0e10badae7ff',cHash: '439a3579c8d21da',cUPMDTk: \"\\/~fdc\\/sample.html?__cf_chl_tk=mCXoLKQFZzk4T7kwEYyqz_TEzNZd7lr4XT_ft6Nq8FI-1726271587-0.0.1.1-4457\",cFPWv: 'b',cTTimeMs: '1000',cMTimeMs: '390000',cTplV: 5,cTplB: 'cf',cK: \"\",fa: \"\\/~fdc\\/sample.html?__cf_chl_f_tk=mCXoLKQFZzk4T7kwEYyqz_TEzNZd7lr4XT_ft6Nq8FI-1726271587-0.0.1.1-4457\",md: \"ZKHfVX5Loa8knC43AhYBpKQ4ClCAKZpR.BdRpbHeIo4-1726271587-1.1.1.1-Kep8A6ahI0BGMRSCO_wanUib7CBVev0YJCy3CWXWtnHAonJ_FC1r81a5kM0kTwZyFmQmrchmdI31Utzf47vMtl9uQmdTHRDHB70N0feoRFNcA9EvTNH1UNfWCrkkqXnltNnaYlep3NMhrgAO6H7FBer7B3mxkYAbWZsOejjFvGfSvHZStXSojhNH0gDacbW4oVrLiaXf0FjFazwRDF6d5eLoG4T0P9xQILJOMrS0EMqwIG1p7B3NMIPD8fRxJBrDAUKYIPn2Hnf52O4zGbz9MeU49NDQNXblcJH20xObdGlyGFMVtl2K1b8gXF8ISZBf2_UhPhFCscgUM6eG6hJRSKVUrGO7B8._15ErOVmLsHhk0hpMsfUVVi6aYbO5T77PZ8WCAT4l2CgjWFs8s3PtM1cMAEsqCYlgywpJO1S.qxg3YrPZ8RcZSKVDMLbhJer._9DCWlpsXcHPARtKSDsNgXDb.RwpyoH.ZdQJhSL39vuTPKDAG54XuRzfVee7Iidy43polGW3HIdKf_kfucUIO4fZ5FuUqP8bFuxbgslRSAqIEC9._im0YQbu7csBwG6idTunR1oLDhnMxK92hzFVkmUE9DGuSFXNeeFqjRi5BPEcv_t7a2.xtNJo7FtOVQq5A_LeyQXhgaWAqCOKeb1gENeoCAnXHku5rCT.lGIP2PHk9S5zgs8qXQXeIte6BMMIgb1tsjBlcW0zLJXZqFsz5GfFq3RasKsUhyJ_X9DJGdRd2.6_YJU2aYYRlKlnFX5bJ6K3Dhsi1Ch_E35Jgg9nWzN0ZKlXyRfxhhZtWlVOUZe7dndj0YzPczk2X3J8r.4SmohFJnrCvkOdYFwuyssOstO.a0wtKdpz7y1_wh_SqhzIPdIaXuViJfZOAKed_AXuIpp_bg.zAjjBaGgKr9UMV2RRuzwzQJEEnmywP9z9ZKQERYIY_zfGhYj41F1sNyi5enUszDVRfO0lB7bhJqWMZWZg4w_DmWDRBsd7iFy35.C0elAD1cO3rwacPHEebLLfF4s8kEXEVK55q8Ow_Mk5xMVwvHla9kP_gPv5EZEZIaYmJ.WW80E6qz01SQTF23RWGkZxya_iJ5rp11GGmJ8uEshOPYVp01DmrUur114s8RLVG3XovnVNX2XmnUvE0tBZpTCAbbZTlQ4LRy1yvXss1O7jsiGyc1kTfUOK37Xd5oxTfTzD3ArvuRPryT8FOl02HbMWuhY.Z1B4Ya1SU9.G0JPSNPQC6LN12zR548A5TYFhouawZV3J6D3gmwTQdkVoORq7qZ5URbP8HLFCEs4OIKmchw3hlsUZbParxHTFHXCZVKmDi6HPgE11eR_O_SydZNDhMBBW8t8ATzyxh..1xts6KPtz_UoQK8s17jAcS.zC5imTwjlQEglpwNSJKRxD5jZ.RPmXvMyaCTuvNSpfj.Cv0i2xfM_BuIMa.VQr3WKuSZ2QKsaO9aUVNH9NH.pMcw.BwMz4kEc6e1rUhQumdpjHu9pXn0YR4aKClJ3mp4M3Aowt1lod8qpF8Q_8Ujy1iRX9ItNjPbhVtK4Dg_Sibwq6j7zy8MAjcgbzZbXmdGnycnlTFN_Beag9epaddNDUrC2d5jBh6XZEGG7QxwjQCdMdv5dqD55eEm6WIOI_h22bU0QdYi.6WYZ9HQCKKh_cClX319kZAmUl8Q7TtL4N4t23zkv2yA8zpcZY8jsRtBao2H3KfgVM0dDAb8BiFl7zfRkr1xtOCRCojfhOUMKkKWmJME3RNOSBZxnM8IGSlqe7Gu29mFb7gVs6v4oCyBHRi5dX659IOdHUOnQ85P3skuv3ZSEbrFSp7MmHg.DU4ZUOE69PLeSrNEU.JOGdG3RocA7mVnyYacU1VOwD5_YEdGmB_UsfMYkrjP4dh0lW2pBI5YuPJu2msqoNGTpfIZMLa2gkinNChkN2ZuyPx_eCjv1Vv5QcQ8WjfzPj3ftcr4MiXIoGsxNaWhls5gd5JqBtBoksWVnodcC.ITIwNlyFUCXYXftaM.zPa8XtVSKbnxyaArVUgP_EebqtT8IfcH9yKOP5r273du7D17ptz5sbENIg_yk5g.YrwT5yeO6arnnsRD6WtEn8Tzc1VzfcBQuU\",mdrd: \"zhQVAjQCOJTp8Q7DbbMZqy8W51JHduqCblta0dDOn7g-1726271587-1.1.1.1-FRkUOJTla_ECWCFvrDoGySundWzdhLokhwV80hnk12xYtbsbKfKkbH32o75XDmkxc5z_2Ao57gPMQ_6lamdFr7brkd8PbQdTF.nE0ylgBoce79hr69TkimDBjsPU4j6iRJikd90ChXZnzekb8sMv4eCRh7ouqQ6XykCPK.3M_CIfcJFHxd8jnEbDwLVK4k6F2Mes9PFPZjVyDrhAzMV1iXwftef1Rgglx3ZJLkO5HAB4S24XSl4FVPBnI.i7kXADEeOzw6T7iMfJJ_NqWSNmH3wB9ouo46iJXFkzQn9Ic8EX9WNsgrpdHboLa799Bg67Jbo2wvrtHWdtoCOhkcIzmoeXQdu4uMeSroxnpZ_0f2HudKs.BocXPVolfDmKMKDtVz6AybqKJFs1hSdgWTNyMU_gt34l8ukc9UbT1b2dNMKOOjqInqnusdgAECfZGPx0xSOkcLLYN4aV12Aq6sqDDktWNrDyla5A7TC_2G9gAwi.UESRvYTeVOmRpndfZV9VNqUGh7EBWhf_4GfYuRFuzf90BSxrUN.sr5faCQTUWKA2OXc97mAf.57gAwVW81DsNwT1iBVkRhVe9j67SqGw0WupVQI1trsb2B63.Jy35Dah4KPZFIpQQP5PZOVYYVpGAXMp9oYTBTVDOudj9k_NDv0DDHrc2PdIIOSGLyxemZqZVMexlhrC_wLAdAmg0OUOIW4ExZpde8FNgvuwpCvjLKQx_J6VdJqTIdksW4wC9H6ybg5DPCuKQS5H7sTX6V4aLdfU4m_HXzNaiXJETT2Oiy.9_rOh1T5zcVzuam34dXkWtk4xN5BWhwpkyXGnF24X2ErV.faujpUV7N1q3GSgOSwzdx06X69o3L6WjreswUZSYi_t2c3.JfU3l9pV9U5FMZwzVUeHeV8V.fenNBwU1H4M.L9K4yq0efuf4GQmOCmaV.b.OOPPQ7xMg4GiGrhYdntOfW75pYiMChrzIZxVpF_4Mmf2faYzHHPYtH8fxK9lku9ci2Rl_t4LlEg.IcJkUja5FHYZUpMOnTjM4aeQy8jdVuzlU9xhWsSIxSUF19xJ3rILt7asneTPUIXKD56LYrIrXZaMAVkfYw9ZB3RuMeB8whFc6N_gYhr.3dSFo3LO5LHcciyfC7wIqM1pO.4vjbATxP6xfLiCeUK_eRtzPxvkqFnQhrKFnZZrin1_73rpKROXjcMzInXfW5XHbysf0gzTHEB6eNl7qDbzIt_r6o_juSXJIrT28fX9OVhmBlIJjXVyFY9VOppqjcJsOdY2XJ0GWBf3VIKkWOqfU9LSb.ZAuyQkYSccHqLHjkyy3KJeNSG6cDpBe4zpGIWlu9CXKeKOIO1J_sCgzPD3PrGo1n2rIttEhOqQ3Bcrxqr7Lhqk3nRxEVhW2uZ.sl3jKkNqAtAAkerN5U5OTHFDg2J931YFtjtCW9JCwLXf29ga8GAcmA0ELoZMpCQHHloyRjNorval5Rx_.ZGMOME5SsfG3t5e5G_5PoiYGHDDmCWnSnZ5.X1N5T7GuKFnVLRrzb19gZ1RJ1KPnN8nB6M43xpy3joSbirm2IVTJ7epzZP8MY1IRM4DYfu.O7lmn6HnPr0NJ9zj2DVxKv_QLuo0oKrkAzVCzAFo8ZAEkHS9O_T2r15egz3U9U3lKcpMUt6AmzXcd3W60eViS_CKr_DGj02mBd0OmKlsMiHeY2AP4kfxOpXkMFrVAjhUemIh1Jxs7QqO.heRmPBIE.F60Euo7_Di92EEYDnVFNYLw04CD2ptTG4KsBBmvfgrTgRbgyQwl.Ojwh.A4DR.TNk_3gJBjiuvvZsorIq.OS48KJF3Fq8PGU3lWSJr7dUoRF42Z0yZ7PfDwC1shJ7IUZ5rATYqIjfEkjQj0advxBV7P5Pbeo3dCK2uv2RTaYYG6yUpmVa8mtI9DmCPxK2kVKpdMI1t2qKag5w3qhrrlO5aY8geVU52qhacI3vWQ0asuJM8OSKw25kd.8Aljb4WC5NEHOVcprq9me.Y485BoHh1S4lq1XeHSqz4hdY0iSUwwu29DsOTsaLZycbksoM4o5o1b8h9Zgh8jLqCeqBGtKYUPLojKDFwIJLsonhc5isj7kauQZw6eeLcZrfQLphdPCnY_iQPxKDBJlO5LQ_zFFiRH065OgW7XFLSqHeWYDcSUXOeEUICqyUG63LVm9fd7IGoXFFZZE4mT7kaOBZ6YidjQwuR0xVzhyA\",cRq: {ru: 'aHR0cHM6Ly93d3cuY29sdW1iaWEuZWR1L35mZGMvc2FtcGxlLmh0bWw=',ra: 'cHl0aG9uLXJlcXVlc3RzLzIuMzIuMw==',d: 'j1e7UJM+Y4s780Q6ehPu6G00J97Si0nQKCW+mebCWKk5h47vwf/70pDoxyuH9tJMsHw1CscHaajUAhww9xvX91ufFKWsAL3wyo4nSdGGYxhyRDk++uF+1w/1i9uFQz4/qp8bACgpkhoOh04tjz/Kh8Mvthgil/3X2/S8JnoTmCDRuFqxLIaUVCrD1sO/6bO+r1iA4KLTU8dX5UypXhLuY5JFqsLx7FdFo1ATQ6YHse7ldZYxurBnjTo02vWIAkujcYTogfSyugN9zdiiFas4T43kLRBrLSt3Z0XiT2UlvquxkpWbvOMt86RwXVXkYdXG9Msu+qzYLaNCNkQ+7kw0kc2lJ6iB4q52yH9IpzpCGDcRNdTpi+24giS4sdVt4Qzybc+Pk96LEin1yRT9LiQTxxiDeBixDuhOdy8jvUMKgRce/3/FkYLaxP0K11O4QZ00xLPY09Mxg7mgjBoIkMSV1hJmNrUxh9NCPhNKh+oCEDTHyybEl2KWckJ0RvNqq3fnF8XNV+bkqZuNJhSOr+ue3ZtXqw4uH8b5LThetMdcg7bhDmt6dCNrfW0HqUTW5MzX5BV9/l2ziaO8RzzfUJjM/g==',t: 'MTcyNjI3MTU4Ny4wMDAwMDA=',cT: Math.floor(Date.now() / 1000),m: 'pL//DpZpuk4Q3BD4MNC6Y13Jyi0WAaGbEDn/kUJb8pc=',i1: 'smSaBX4pFHmKsSaSBzCSww==',i2: 'Ld2yUVN0f53DFUkgTv2PAw==',zh: 'wAGxlEHFhEOmQ77bVbD0KeZIF+LJ1yXUhqS9qdSwpI0=',uh: 'CiATXs0R4tTCmAZrIKJMI0mbciEXZbJB6weC9NLv1LY=',hh: '2VZmyYdqUQ4SMbNZPNQfNas0vb5Tx7cyPPnDB8GEXac=',}};var cpo = document.createElement('script');cpo.src = '/cdn-cgi/challenge-platform/h/b/orchestrate/chl_page/v1?ray=8c2c0e10badae7ff';window._cf_chl_opt.cOgUHash = location.hash === '' && location.href.indexOf('#') !== -1 ? '#' : location.hash;window._cf_chl_opt.cOgUQuery = location.search === '' && location.href.slice(0, location.href.length - window._cf_chl_opt.cOgUHash.length).indexOf('?') !== -1 ? '?' : location.search;if (window.history && window.history.replaceState) {var ogU = location.pathname + window._cf_chl_opt.cOgUQuery + window._cf_chl_opt.cOgUHash;history.replaceState(null, null, \"\\/~fdc\\/sample.html?__cf_chl_rt_tk=mCXoLKQFZzk4T7kwEYyqz_TEzNZd7lr4XT_ft6Nq8FI-1726271587-0.0.1.1-4457\" + window._cf_chl_opt.cOgUHash);cpo.onload = function() {history.replaceState(null, null, ogU);}}document.getElementsByTagName('head')[0].appendChild(cpo);}());</script></body></html>\n",
      "{'User-Agent': 'python-requests/2.32.3', 'Accept-Encoding': 'gzip, deflate', 'Accept': '*/*', 'Connection': 'keep-alive'}\n"
     ]
    }
   ],
   "source": [
    "import requests\n",
    "\n",
    "# 2. Make a request to the server using the following URL, which will take a second or two:\n",
    "url = \"https://www.columbia.edu/~fdc/sample.html\"\n",
    "response = requests.get(url)\n",
    "\n",
    "# 3. check the returned object status code:\n",
    "print(response.status_code)\n",
    "\n",
    "# check the content of the result:\n",
    "print(response.text)\n",
    "\n",
    "# check the ongoin and returned headers:\n",
    "print(response.request.headers)"
   ]
  },
  {
   "cell_type": "markdown",
   "metadata": {},
   "source": [
    "The main elements are the *status_code* and the body content, which can be presented as *text*.\n",
    "\n",
    "The full request can be inspected in the *request* attribute:"
   ]
  },
  {
   "cell_type": "code",
   "execution_count": 7,
   "metadata": {},
   "outputs": [
    {
     "name": "stdout",
     "output_type": "stream",
     "text": [
      "<PreparedRequest [GET]>\n",
      "https://www.columbia.edu/~fdc/sample.html\n"
     ]
    }
   ],
   "source": [
    "print(response.request)\n",
    "print(response.request.url)"
   ]
  },
  {
   "cell_type": "markdown",
   "metadata": {},
   "source": [
    "The full *request* module documentation can be  found here: https://requests.readthedocs.io/en/latest/\n",
    "\n",
    "### There's more...\n",
    "\n",
    "All HTTP status codes can be seen at this web page: https:///httpstatuses.com/ They are also described in the *http.HTTPStatus* enum with convenient constant names, such as *OK, NOT_FOUND,* or *FORBIDDEN*.\n",
    "\n",
    "The general structure of the status code is:\n",
    "\n",
    "1XX - Information on specifics about the protocol\n",
    "2XX - Success.\n",
    "3XX - Redirection. For example: The URL is no longer valid and is available somewhere else. The new URL should be included.\n",
    "4XX - Client error. There's some error in the information sent to the server (like a bad format) or in the client (for example, authentication is required to be able to access the URL)\n",
    "5XX - Server error. There's an error on the server side; for example, the server might be unavailable or there might be a bug processing the request.\n",
    "\n",
    "### Parsing HTML\n",
    "Downloading raw text or a binary file is a good starting point, but the main language \n",
    "of the web is HTML.\n",
    "HTML is a structured language, defining different parts of a document such as \n",
    "headings and paragraphs. HTML is also hierarchical, defining sub-elements. The \n",
    "ability to parse raw text into a structured document is basically the ability to extract \n",
    "information automatically from a web page. For example, some text can be relevant \n",
    "if enclosed in certain HTML elements, such as a class div or after a heading h3 tag\n",
    "\n",
    "### Getting ready\n",
    "\n",
    "We'll use the excellent *Beautiful Soup* modele to parse HTML text into a memory object that can be analyzed. We need to use the lastest version of the *beautifulsoup4* package to be compatible with Python 3. Add the package to your requirements.txt and install the dependencies in the virtual environment:\n",
    "\n",
    "```\n",
    "$ echo \"beautifulsoup4==4.8.2\" >> requirements.txt\n",
    "$ pip install -r requirements.txt\n",
    "```\n",
    "\n",
    "### How to do it...\n",
    "1. Import *BeautifulSoup* and *requests*:"
   ]
  },
  {
   "cell_type": "code",
   "execution_count": 38,
   "metadata": {},
   "outputs": [
    {
     "name": "stdout",
     "output_type": "stream",
     "text": [
      "<Response [200]>\n",
      "<title>HTML Examples</title>\n",
      "HTML Examples\n",
      "None\n",
      "\n",
      "                  HTML and CSS\n",
      "                \n",
      "\n",
      "\n",
      "LearnLearn\n",
      "                    HTML\n",
      "                  \n",
      "\n",
      "                    Tutorial\n",
      "                  \n",
      "                    Tutorial\n",
      "                  \n",
      "\n",
      "                    Reference\n",
      "                  \n",
      "                    Reference\n",
      "                  \n",
      "\n",
      "\n",
      "\n",
      "LearnLearn\n",
      "                    CSS\n",
      "                  \n",
      "\n",
      "                    Tutorial\n",
      "                  \n",
      "                    Tutorial\n",
      "                  \n",
      "\n",
      "                    Reference\n",
      "                  \n",
      "                    Reference\n",
      "                  \n",
      "\n",
      "\n",
      "\n",
      "LearnLearn\n",
      "                    RWD\n",
      "                  \n",
      "\n",
      "                    Tutorial\n",
      "                  \n",
      "                    Tutorial\n",
      "                  \n",
      "\n",
      "\n",
      "\n",
      "LearnLearn\n",
      "                    Bootstrap\n",
      "                  \n",
      "\n",
      "                    Overview\n",
      "                  \n",
      "                    Overview\n",
      "                  \n",
      "\n",
      "\n",
      "\n",
      "LearnLearn\n",
      "                    W3.CSS\n",
      "                  \n",
      "\n",
      "                    Tutorial\n",
      "                  \n",
      "                    Tutorial\n",
      "                  \n",
      "\n",
      "                    Reference\n",
      "                  \n",
      "                    Reference\n",
      "                  \n",
      "\n",
      "\n",
      "\n",
      "LearnLearn\n",
      "                    Sass\n",
      "                  \n",
      "\n",
      "                    Tutorial\n",
      "                  \n",
      "                    Tutorial\n",
      "                  \n",
      "\n",
      "                    Reference\n",
      "                  \n",
      "                    Reference\n",
      "                  \n",
      "\n",
      "\n",
      "\n",
      "LearnLearn\n",
      "                    Colors\n",
      "                  \n",
      "\n",
      "                    Tutorial\n",
      "                  \n",
      "                    Tutorial\n",
      "                  \n",
      "\n",
      "                    Reference\n",
      "                  \n",
      "                    Reference\n",
      "                  \n",
      "\n",
      "\n",
      "\n",
      "LearnLearn\n",
      "                    Icons\n",
      "                  \n",
      "\n",
      "                    Tutorial\n",
      "                  \n",
      "                    Tutorial\n",
      "                  \n",
      "\n",
      "                    Reference\n",
      "                  \n",
      "                    Reference\n",
      "                  \n",
      "\n",
      "\n",
      "\n",
      "LearnLearn\n",
      "                    SVG\n",
      "                  \n",
      "\n",
      "                    Tutorial\n",
      "                  \n",
      "                    Tutorial\n",
      "                  \n",
      "\n",
      "                    Reference\n",
      "                  \n",
      "                    Reference\n",
      "                  \n",
      "\n",
      "\n",
      "\n",
      "LearnLearn\n",
      "                    Canvas\n",
      "                  \n",
      "\n",
      "                    Tutorial\n",
      "                  \n",
      "                    Tutorial\n",
      "                  \n",
      "\n",
      "                    Reference\n",
      "                  \n",
      "                    Reference\n",
      "                  \n",
      "\n",
      "\n",
      "\n",
      "LearnLearn\n",
      "                    Graphics\n",
      "                  \n",
      "\n",
      "                    Tutorial\n",
      "                  \n",
      "                    Tutorial\n",
      "                  \n",
      "\n",
      "\n",
      "\n",
      "LearnLearn\n",
      "                    Character Sets\n",
      "                  \n",
      "\n",
      "                    Reference\n",
      "                  \n",
      "                    Reference\n",
      "                  \n",
      "\n",
      "\n",
      "\n",
      "LearnLearn\n",
      "                    How To\n",
      "                  \n",
      "\n",
      "                    Tutorial\n",
      "                  \n",
      "                    Tutorial\n",
      "                  \n",
      "\n",
      "\n",
      "\n",
      "\n"
     ]
    }
   ],
   "source": [
    "import requests\n",
    "from bs4 import BeautifulSoup\n",
    "\n",
    "# Set up the URl of the page to download and retrieve it:\n",
    "# url = 'http://www.columbia.edu/~fdc/sample.html'\n",
    "url = \"https://www.w3schools.com/html/html_examples.asp\"\n",
    "response = requests.get(url)\n",
    "print(response)\n",
    "\n",
    "# Parse the downloaded page:\n",
    "page = BeautifulSoup(response.text, 'html.parser')\n",
    "\n",
    "# Obtain the title of the page. See that it is the same as what's displayed in the browser\n",
    "print(page.title)\n",
    "print(page.title.string)\n",
    "\n",
    "# Find all the h3 elements in the page, to determine the existing sections:\n",
    "page.find_all('h3')\n",
    "\n",
    "# Extract the text on the section for special characters. Stop when you reach the next <h3> tag:\n",
    "link_section = page.find('h3', attrs={'id': 'chars'})\n",
    "section = []\n",
    "print(link_section)\n",
    "link_section = page.find('h3')\n",
    "\n",
    "for element in link_section.next_elements:\n",
    "    if element.name == 'h3':\n",
    "        break\n",
    "    section.append(element.string or '')\n",
    "\n",
    "result = \"\".join(section)\n",
    "print(result)"
   ]
  },
  {
   "cell_type": "markdown",
   "metadata": {},
   "source": [
    "### There's more...\n",
    "\n",
    "Regexes can be used as input in the *.find()* and *.find_all()* methods. For example, this search uses the *h2* and *h3* tags:"
   ]
  },
  {
   "cell_type": "code",
   "execution_count": 39,
   "metadata": {},
   "outputs": [
    {
     "data": {
      "text/plain": [
       "[<h2 style=\"color: #fff4a3\"><b>Tutorials</b></h2>,\n",
       " <h3 class=\"tnb-nav-section-title\" data-heading=\"html_and_css_title\">\n",
       "                   HTML and CSS\n",
       "                 </h3>,\n",
       " <h3 class=\"tnb-nav-section-title\" data-heading=\"data_analytics_title\">\n",
       "                   Data Analytics\n",
       "                 </h3>,\n",
       " <h3 class=\"tnb-nav-section-title\" data-heading=\"web_building_title\">\n",
       "                   Web Building\n",
       "                 </h3>,\n",
       " <h3 class=\"tnb-nav-section-title\" data-heading=\"javascript_title\">\n",
       "                   JavaScript\n",
       "                 </h3>,\n",
       " <h3 class=\"tnb-nav-section-title\" data-heading=\"web_building_title\">\n",
       "                   Web Building\n",
       "                 </h3>,\n",
       " <h3 class=\"tnb-nav-section-title\" data-heading=\"backend_title\">\n",
       "                   Backend\n",
       "                 </h3>,\n",
       " <h3 class=\"tnb-nav-section-title\" data-heading=\"data_analytics_title\">\n",
       "                   Data Analytics\n",
       "                 </h3>,\n",
       " <h3 class=\"tnb-nav-section-title\" data-heading=\"web_building_title\">\n",
       "                   Web Building\n",
       "                 </h3>,\n",
       " <h2 style=\"color: #fff4a3\"><b>Exercises</b></h2>,\n",
       " <h3 class=\"tnb-nav-section-title\" data-heading=\"html_and_css_title\">\n",
       "                   HTML and CSS\n",
       "                 </h3>,\n",
       " <h3 class=\"tnb-nav-section-title\" data-heading=\"data_analytics_title\">\n",
       "                   Data Analytics\n",
       "                 </h3>,\n",
       " <h3 class=\"tnb-nav-section-title\" data-heading=\"javascript_title\">\n",
       "                 JavaScript\n",
       "               </h3>,\n",
       " <h3 class=\"tnb-nav-section-title\" data-heading=\"backend_title\">\n",
       "                   Backend\n",
       "                 </h3>,\n",
       " <h3 class=\"tnb-nav-section-title\" data-heading=\"data_analytics_title\">\n",
       "                   Data Analytics\n",
       "                 </h3>,\n",
       " <h2 style=\"color: #fff4a3\"><b>Certificates</b></h2>,\n",
       " <h3 class=\"tnb-nav-section-title\" data-heading=\"html_and_css_title\">\n",
       "                   HTML and CSS\n",
       "                 </h3>,\n",
       " <h3 class=\"tnb-nav-section-title\" data-heading=\"data_analytics_title\">\n",
       "                   Data Analytics\n",
       "                 </h3>,\n",
       " <h3 class=\"tnb-nav-section-title\" data-heading=\"programs_title\">\n",
       "                   Programs\n",
       "                 </h3>,\n",
       " <h3 class=\"tnb-nav-section-title\" data-heading=\"javascript_title\">\n",
       "                   JavaScript\n",
       "                 </h3>,\n",
       " <h3 class=\"tnb-nav-section-title\" data-heading=\"programs_title\">\n",
       "                   Programs\n",
       "                 </h3>,\n",
       " <h3 class=\"tnb-nav-section-title\" data-heading=\"programs_title\">\n",
       "                   Programs\n",
       "                 </h3>,\n",
       " <h3 class=\"tnb-nav-section-title\" data-heading=\"backend_title\">\n",
       "                   Backend\n",
       "                 </h3>,\n",
       " <h3 class=\"tnb-nav-section-title\" data-heading=\"data_analytics_title\">\n",
       "                   Data Analytics\n",
       "                 </h3>,\n",
       " <h2 style=\"color: #fff4a3\"><b>All Our Services</b></h2>,\n",
       " <h2 class=\"left\"><span class=\"left_h2\">HTML</span> Tutorial</h2>,\n",
       " <h2 class=\"left\"><span class=\"left_h2\">HTML</span> Forms</h2>,\n",
       " <h2 class=\"left\"><span class=\"left_h2\">HTML</span> Graphics</h2>,\n",
       " <h2 class=\"left\"><span class=\"left_h2\">HTML</span> Media</h2>,\n",
       " <h2 class=\"left\"><span class=\"left_h2\">HTML</span> APIs</h2>,\n",
       " <h2 class=\"left\"><span class=\"left_h2\">HTML</span> Examples</h2>,\n",
       " <h2 class=\"left\"><span class=\"left_h2\">HTML</span> References</h2>,\n",
       " <h3>HTML Basic</h3>,\n",
       " <h3>HTML Attributes</h3>,\n",
       " <h3>HTML Headings</h3>,\n",
       " <h3>HTML Paragraphs</h3>,\n",
       " <h3>HTML Styles</h3>,\n",
       " <h3>HTML Text Formatting</h3>,\n",
       " <h3>HTML Quotations and Citations</h3>,\n",
       " <h3>HTML Comments</h3>,\n",
       " <h3>HTML CSS</h3>,\n",
       " <h3>HTML Links</h3>,\n",
       " <h3>HTML Images</h3>,\n",
       " <h3>HTML Tables</h3>,\n",
       " <h3>HTML Lists</h3>,\n",
       " <h3>HTML Block and inline elements</h3>,\n",
       " <h3>HTML Div Element</h3>,\n",
       " <h3>HTML Classes</h3>,\n",
       " <h3>HTML Id</h3>,\n",
       " <h3>HTML Layout</h3>,\n",
       " <h3>HTML IFrame</h3>,\n",
       " <h3>HTML head Elements</h3>,\n",
       " <h3>HTML Scripts</h3>,\n",
       " <h3>HTML Computercode Elements</h3>,\n",
       " <h3>HTML Forms</h3>,\n",
       " <h3>HTML Form Elements</h3>,\n",
       " <h3>HTML Input Types</h3>,\n",
       " <h3>HTML Input Attributes</h3>,\n",
       " <h3>HTML Canvas Graphics</h3>,\n",
       " <h3>HTML SVG Graphics</h3>,\n",
       " <h3>HTML Media</h3>,\n",
       " <h3>HTML Geolocation</h3>,\n",
       " <h3>HTML Local Storage</h3>,\n",
       " <h3>HTML Media</h3>,\n",
       " <h3>More HTML Examples</h3>,\n",
       " <h2>Contact Sales</h2>,\n",
       " <h2>Report Error</h2>]"
      ]
     },
     "execution_count": 39,
     "metadata": {},
     "output_type": "execute_result"
    }
   ],
   "source": [
    "import re\n",
    "page.find_all(re.compile('^h(2|3)'))"
   ]
  },
  {
   "cell_type": "markdown",
   "metadata": {},
   "source": [
    "Another useful find parameter is including the CSS class with the *class_parameter*. This will be shown later in the book. "
   ]
  },
  {
   "cell_type": "markdown",
   "metadata": {},
   "source": [
    "### Getting ready\n",
    "\n",
    "This recipe builds on the concept introduced so far, so it will involve downloading and parsing pages to search for links and then continue downloading."
   ]
  },
  {
   "cell_type": "code",
   "execution_count": 40,
   "metadata": {},
   "outputs": [
    {
     "name": "stderr",
     "output_type": "stream",
     "text": [
      "usage: ipykernel_launcher.py [-h] [-d DELAY]\n",
      "ipykernel_launcher.py: error: unrecognized arguments: --f=c:\\Users\\rod_e\\AppData\\Roaming\\jupyter\\runtime\\kernel-v3f24d7218efd65a07be124c36e468680c2c5116b1.json\n"
     ]
    },
    {
     "ename": "SystemExit",
     "evalue": "2",
     "output_type": "error",
     "traceback": [
      "An exception has occurred, use %tb to see the full traceback.\n",
      "\u001b[1;31mSystemExit\u001b[0m\u001b[1;31m:\u001b[0m 2\n"
     ]
    },
    {
     "name": "stderr",
     "output_type": "stream",
     "text": [
      "c:\\Users\\rod_e\\miniconda3\\envs\\automatization\\lib\\site-packages\\IPython\\core\\interactiveshell.py:3558: UserWarning: To exit: use 'exit', 'quit', or Ctrl-D.\n",
      "  warn(\"To exit: use 'exit', 'quit', or Ctrl-D.\", stacklevel=1)\n"
     ]
    }
   ],
   "source": [
    "import http.server\n",
    "import time\n",
    "import argparse\n",
    "\n",
    "PORT = 8000\n",
    "\n",
    "if __name__ == \"__main__\":\n",
    "    parser = argparse.ArgumentParser()\n",
    "    parser.add_argument(\n",
    "        \"-d\",\n",
    "        dest=\"delay\",\n",
    "        type=float,\n",
    "        default=0.5,\n",
    "        help=\"delay introduced for each request, in seconds\",\n",
    "    )\n",
    "    args = parser.parse_args()\n",
    "    delay_time = args.delay\n",
    "\n",
    "    class DelayServer(http.server.SimpleHTTPRequestHandler):\n",
    "\n",
    "        def do_GET(self):\n",
    "            # Produce an artificial delay on each request\n",
    "            time.sleep(delay_time)\n",
    "            super().do_GET()\n",
    "\n",
    "    Handler = DelayServer\n",
    "\n",
    "    server = http.server.ThreadingHTTPServer((\"localhost\", 8000), Handler)\n",
    "    print(\"Starting server, use <Ctrl-C> to stop\")\n",
    "    server.serve_forever()"
   ]
  },
  {
   "cell_type": "markdown",
   "metadata": {},
   "source": [
    "### Getting ready\n",
    "\n",
    "We need to add the *feedparser* dependency to our *requirements.txt* file and reinstall it:\n",
    "```\n",
    "$ echo \"feedparser==5.2.1\" >> requirements.txt\n",
    "$ pip install -r requirements.txt\n",
    "```\n",
    "\n",
    "Sometimes they are very easy to find, but sometimes they are a little bit hidden. Search for feed or rss.\n",
    "\n",
    "Most newspapers and news agencies have their RSS feeds divided by themes. For our example, we'll parse the **New York Times** main page feed, https://rss.nytimes.com/services/xml/rss/nyt/HomePage.xml There are more feed available on the main feed page: https://archive.nytimes.com/www.nytimes.com/services/xml/rss/index.html\n",
    "\n",
    "### How to do it...\n",
    "\n",
    "Import the *feedparser* module, as well as *datetime, delorean*, and *requests*"
   ]
  },
  {
   "cell_type": "code",
   "execution_count": 9,
   "metadata": {},
   "outputs": [
    {
     "name": "stdout",
     "output_type": "stream",
     "text": [
      "Sat, 14 Sep 2024 01:01:02 +0000\n",
      "15 24\n"
     ]
    },
    {
     "data": {
      "text/plain": [
       "('Boar’s Head Shuts Down Virginia Plant Tied to Deadly Listeria Outbreak',\n",
       " 'https://www.nytimes.com/2024/09/13/health/boars-head-shutdown-listeria-deaths.html',\n",
       " <Response [403]>)"
      ]
     },
     "execution_count": 9,
     "metadata": {},
     "output_type": "execute_result"
    }
   ],
   "source": [
    "import feedparser\n",
    "import datetime\n",
    "import delorean\n",
    "import requests\n",
    "\n",
    "# Parse the feed and check when it was last updated. Feed information, like the title of the feed, can be obtained in the feed attribute:\n",
    "rss = feedparser.parse('https://rss.nytimes.com/services/xml/rss/nyt/HomePage.xml')\n",
    "print(rss.channel.updated)\n",
    "\n",
    "# Get the entries are less or equal to 6 hours old\n",
    "time_limit = delorean.parse(rss.channel.updated) - datetime.timedelta(hours=6)\n",
    "entries = [entry for entry in rss.entries if delorean.parse(entry.published) > time_limit]\n",
    "\n",
    "# Some of the returned entries will be older than 6 hours:\n",
    "print(len(entries), len(rss.entries))\n",
    "\n",
    "# Retrieve information about the entries, such as the tile. The full entry URL is available as link. Explore the available information in this particular feed:\n",
    "entries[8]['title'], entries[8]['link'], requests.get(entries[8]['link'])"
   ]
  },
  {
   "cell_type": "code",
   "execution_count": 10,
   "metadata": {},
   "outputs": [
    {
     "data": {
      "text/plain": [
       "dict_keys(['title', 'title_detail', 'links', 'link', 'id', 'guidislink', 'summary', 'summary_detail', 'authors', 'author', 'author_detail', 'published', 'published_parsed', 'tags', 'media_content', 'media_credit', 'credit', 'content'])"
      ]
     },
     "execution_count": 10,
     "metadata": {},
     "output_type": "execute_result"
    }
   ],
   "source": [
    "entries[5].keys()"
   ]
  },
  {
   "cell_type": "markdown",
   "metadata": {},
   "source": [
    "### Getting ready\n",
    "\n",
    "To demonstrate how to operate RESTful APIs, we'll use the example site https://jsonplaceholder.typicode.com/ It simulates a common case with post, comment, and other common resources. We will use posts and comments. The URLs to use will be as follows:\n",
    "\n",
    "```\n",
    "# The collection of all posts\n",
    "/posts\n",
    "# A single post. X is the ID of the post\n",
    "/posts/X\n",
    "# The comments of post X\n",
    "/posts/X/comments\n",
    "```\n",
    "The site returns the correct result for each of them. Pretty handy!\n",
    "\n",
    "### How to do it...\n"
   ]
  },
  {
   "cell_type": "code",
   "execution_count": 18,
   "metadata": {},
   "outputs": [
    {
     "name": "stdout",
     "output_type": "stream",
     "text": [
      "<Response [200]>\n",
      "<Response [201]>\n"
     ]
    },
    {
     "data": {
      "text/plain": [
       "(<Response [200]>,\n",
       " {'userId': 1, 'id': 2, 'title': 'qui est esse', 'body': 'new body'})"
      ]
     },
     "execution_count": 18,
     "metadata": {},
     "output_type": "execute_result"
    }
   ],
   "source": [
    "import requests\n",
    "\n",
    "# Get a list of all posts and display the latest post:\n",
    "result = requests.get('https://jsonplaceholder.typicode.com/posts')\n",
    "print(result)\n",
    "\n",
    "result.json()\n",
    "\n",
    "# List of 100 posts NOT DISPLAYED HERE\n",
    "result.json()[-1]\n",
    "\n",
    "# Cerate a new post. See the URL of the newly created resource. The call also returns the resource:\n",
    "new_post = {'userId': 10, 'title': 'a title', 'body': 'something something'}\n",
    "result = requests.post('https://jsonplaceholder.typicode.com/posts', json= new_post)\n",
    "print(result)\n",
    "result.json(), result.headers['Location']\n",
    "\n",
    "# Fetch an existing post with GET:\n",
    "result = requests.get('https://jsonplaceholder.typicode.com/posts/2')\n",
    "result, result.json()\n",
    "\n",
    "# Use PATCH to update its values. Check the returned resource:\n",
    "update = {'body' : 'new body'}\n",
    "result = requests.patch('https://jsonplaceholder.typicode.com/posts/2', json=update)\n",
    "\n",
    "result, result.json()"
   ]
  },
  {
   "attachments": {
    "image.png": {
     "image/png": "[encoded data removed]"
    }
   },
   "cell_type": "markdown",
   "metadata": {},
   "source": [
    "### Interacting with forms\n",
    "\n",
    "A common element present in web pages is forms. Forms are a way of sending values to a web page, for example, to create a new comment on a blog post, or to submit a purchase.\n",
    "\n",
    "Browsers present forms so you can input values and send them in a single action after pressing the submit or equivalent button. We'll see how to create this action programmatically in this recipe.\n",
    "\n",
    "### Getting ready\n",
    "\n",
    "We'll work against the test server https://httpbin.org/forms/post which allows us to send a test form and send back the submitted information\n",
    "\n",
    "The following is an example form to order a pizza:\n",
    "\n",
    "![image.png](attachment:image.png)\n",
    "\n",
    "You can fill the form in manually and see it return the information in JSON format, including extra information such as the browser being used.\n",
    "\n",
    "\n",
    "Chech the names of the inputs, *custname, custtel, custemail, size* (a radio option), *topping* (a multiselection checkbox), *delivery* (time), and *comments*.\n",
    "\n",
    "### How to do it...\n",
    "\n",
    "1. Import the *request, BeautifulSoup,* and *re* modules:"
   ]
  },
  {
   "cell_type": "code",
   "execution_count": 23,
   "metadata": {},
   "outputs": [
    {
     "data": {
      "text/plain": [
       "(<Response [200]>,\n",
       " {'args': {},\n",
       "  'data': '',\n",
       "  'files': {},\n",
       "  'form': {'comments': '',\n",
       "   'custemail': 'sean@oconell.ie',\n",
       "   'custname': \"Sean O'Connell\",\n",
       "   'custtel': '123-456-789',\n",
       "   'delivery': '20:30',\n",
       "   'size': 'small',\n",
       "   'topping': ['bacon', 'onion']},\n",
       "  'headers': {'Accept': '*/*',\n",
       "   'Accept-Encoding': 'gzip, deflate',\n",
       "   'Content-Length': '139',\n",
       "   'Content-Type': 'application/x-www-form-urlencoded',\n",
       "   'Host': 'httpbin.org',\n",
       "   'User-Agent': 'python-requests/2.32.3',\n",
       "   'X-Amzn-Trace-Id': 'Root=1-66e4ee5c-611d9d9321681d273c562723'},\n",
       "  'json': None,\n",
       "  'origin': '187.202.101.227',\n",
       "  'url': 'https://httpbin.org/post'})"
      ]
     },
     "execution_count": 23,
     "metadata": {},
     "output_type": "execute_result"
    }
   ],
   "source": [
    "import requests\n",
    "from bs4 import BeautifulSoup\n",
    "import re\n",
    "\n",
    "# Retrieve the form page, parse it, and print the input fields. Chech that the posting URL is /post (not/forms/post):\n",
    "response = requests.get(\"https://httpbin.org/forms/post\")\n",
    "page = BeautifulSoup(response.text)\n",
    "form = page.find(\"form\")\n",
    "{field.get(\"name\") for field in form.find_all(re.compile(\"input|textarea\"))}\n",
    "\n",
    "# Prepare the data to be posted as a dictionary. Check that the values are as defined in the form:\n",
    "data = {\n",
    "    \"custname\": \"Sean O'Connell\",\n",
    "    \"custtel\": \"123-456-789\",\n",
    "    \"custemail\": \"sean@oconell.ie\",\n",
    "    \"size\": \"small\",\n",
    "    \"topping\": [\"bacon\", \"onion\"],\n",
    "    \"delivery\": \"20:30\",\n",
    "    \"comments\": \"\",\n",
    "}\n",
    "\n",
    "# Post the values and check that the response is the same as returned in the browser:\n",
    "response = requests.post('https://httpbin.org/post', data)\n",
    "response, response.json()"
   ]
  },
  {
   "cell_type": "markdown",
   "metadata": {},
   "source": [
    "### Using Selenium for advanced interaction\n",
    "\n",
    "Sometimes, nothing short of the real thing will work. Selenium is a project to use to achieve automation in web browsers. It's conceived as a way of automatic testing, but it also can be used to automate interactions with a site.\n",
    "\n",
    "Selenium can control Safari, chrome, Firefox, Internet Explorer, or Microsoft Edge, though it requires installing a specific driver for each case. We'll use Chrome.\n",
    "\n",
    "### Getting ready\n",
    "\n",
    "We need to install the right driver for chrome, called *chromedriver*. Add the *selenium* module to *requirements.txt* and install it:\n",
    "```\n",
    "$ echo \"selenium==3.141.0\" >> requirements.txt\n",
    "$ pip install -r requirements.txt\n",
    "```\n",
    "\n",
    "### How to do it...\n",
    "\n",
    "1. Import Selenium, start a browser and load the form page. A page will oopen reflecting the operations:"
   ]
  },
  {
   "cell_type": "code",
   "execution_count": 4,
   "metadata": {},
   "outputs": [
    {
     "ename": "OSError",
     "evalue": "[WinError 216] This version of %1 is not compatible with the version of Windows you're running. Check your computer's system information and then contact the software publisher",
     "output_type": "error",
     "traceback": [
      "\u001b[1;31m---------------------------------------------------------------------------\u001b[0m",
      "\u001b[1;31mOSError\u001b[0m                                   Traceback (most recent call last)",
      "Cell \u001b[1;32mIn[4], line 3\u001b[0m\n\u001b[0;32m      1\u001b[0m \u001b[38;5;28;01mfrom\u001b[39;00m \u001b[38;5;21;01mselenium\u001b[39;00m \u001b[38;5;28;01mimport\u001b[39;00m webdriver\n\u001b[1;32m----> 3\u001b[0m browser \u001b[38;5;241m=\u001b[39m \u001b[43mwebdriver\u001b[49m\u001b[38;5;241;43m.\u001b[39;49m\u001b[43mEdge\u001b[49m\u001b[43m(\u001b[49m\u001b[38;5;124;43m'\u001b[39;49m\u001b[38;5;124;43m./msedgedriver.exe\u001b[39;49m\u001b[38;5;124;43m'\u001b[39;49m\u001b[43m)\u001b[49m\n\u001b[0;32m      5\u001b[0m browser\u001b[38;5;241m.\u001b[39mget(\u001b[38;5;124m'\u001b[39m\u001b[38;5;124mhttps://httpbin.org/forms/post\u001b[39m\u001b[38;5;124m'\u001b[39m)\n\u001b[0;32m      7\u001b[0m \u001b[38;5;66;03m# Add a value in the customer name field. Remember that it is called custname:\u001b[39;00m\n",
      "File \u001b[1;32mc:\\Users\\rod_e\\miniconda3\\envs\\automatization\\lib\\site-packages\\selenium\\webdriver\\edge\\webdriver.py:56\u001b[0m, in \u001b[0;36mWebDriver.__init__\u001b[1;34m(self, executable_path, capabilities, port, verbose, service_log_path, log_path, keep_alive)\u001b[0m\n\u001b[0;32m     53\u001b[0m     \u001b[38;5;28mself\u001b[39m\u001b[38;5;241m.\u001b[39mport \u001b[38;5;241m=\u001b[39m utils\u001b[38;5;241m.\u001b[39mfree_port()\n\u001b[0;32m     55\u001b[0m \u001b[38;5;28mself\u001b[39m\u001b[38;5;241m.\u001b[39medge_service \u001b[38;5;241m=\u001b[39m Service(executable_path, port\u001b[38;5;241m=\u001b[39m\u001b[38;5;28mself\u001b[39m\u001b[38;5;241m.\u001b[39mport, verbose\u001b[38;5;241m=\u001b[39mverbose, log_path\u001b[38;5;241m=\u001b[39mservice_log_path)\n\u001b[1;32m---> 56\u001b[0m \u001b[38;5;28;43mself\u001b[39;49m\u001b[38;5;241;43m.\u001b[39;49m\u001b[43medge_service\u001b[49m\u001b[38;5;241;43m.\u001b[39;49m\u001b[43mstart\u001b[49m\u001b[43m(\u001b[49m\u001b[43m)\u001b[49m\n\u001b[0;32m     58\u001b[0m \u001b[38;5;28;01mif\u001b[39;00m capabilities \u001b[38;5;129;01mis\u001b[39;00m \u001b[38;5;28;01mNone\u001b[39;00m:\n\u001b[0;32m     59\u001b[0m     capabilities \u001b[38;5;241m=\u001b[39m DesiredCapabilities\u001b[38;5;241m.\u001b[39mEDGE\n",
      "File \u001b[1;32mc:\\Users\\rod_e\\miniconda3\\envs\\automatization\\lib\\site-packages\\selenium\\webdriver\\common\\service.py:72\u001b[0m, in \u001b[0;36mService.start\u001b[1;34m(self)\u001b[0m\n\u001b[0;32m     70\u001b[0m     cmd \u001b[38;5;241m=\u001b[39m [\u001b[38;5;28mself\u001b[39m\u001b[38;5;241m.\u001b[39mpath]\n\u001b[0;32m     71\u001b[0m     cmd\u001b[38;5;241m.\u001b[39mextend(\u001b[38;5;28mself\u001b[39m\u001b[38;5;241m.\u001b[39mcommand_line_args())\n\u001b[1;32m---> 72\u001b[0m     \u001b[38;5;28mself\u001b[39m\u001b[38;5;241m.\u001b[39mprocess \u001b[38;5;241m=\u001b[39m \u001b[43msubprocess\u001b[49m\u001b[38;5;241;43m.\u001b[39;49m\u001b[43mPopen\u001b[49m\u001b[43m(\u001b[49m\u001b[43mcmd\u001b[49m\u001b[43m,\u001b[49m\u001b[43m \u001b[49m\u001b[43menv\u001b[49m\u001b[38;5;241;43m=\u001b[39;49m\u001b[38;5;28;43mself\u001b[39;49m\u001b[38;5;241;43m.\u001b[39;49m\u001b[43menv\u001b[49m\u001b[43m,\u001b[49m\n\u001b[0;32m     73\u001b[0m \u001b[43m                                    \u001b[49m\u001b[43mclose_fds\u001b[49m\u001b[38;5;241;43m=\u001b[39;49m\u001b[43mplatform\u001b[49m\u001b[38;5;241;43m.\u001b[39;49m\u001b[43msystem\u001b[49m\u001b[43m(\u001b[49m\u001b[43m)\u001b[49m\u001b[43m \u001b[49m\u001b[38;5;241;43m!=\u001b[39;49m\u001b[43m \u001b[49m\u001b[38;5;124;43m'\u001b[39;49m\u001b[38;5;124;43mWindows\u001b[39;49m\u001b[38;5;124;43m'\u001b[39;49m\u001b[43m,\u001b[49m\n\u001b[0;32m     74\u001b[0m \u001b[43m                                    \u001b[49m\u001b[43mstdout\u001b[49m\u001b[38;5;241;43m=\u001b[39;49m\u001b[38;5;28;43mself\u001b[39;49m\u001b[38;5;241;43m.\u001b[39;49m\u001b[43mlog_file\u001b[49m\u001b[43m,\u001b[49m\n\u001b[0;32m     75\u001b[0m \u001b[43m                                    \u001b[49m\u001b[43mstderr\u001b[49m\u001b[38;5;241;43m=\u001b[39;49m\u001b[38;5;28;43mself\u001b[39;49m\u001b[38;5;241;43m.\u001b[39;49m\u001b[43mlog_file\u001b[49m\u001b[43m,\u001b[49m\n\u001b[0;32m     76\u001b[0m \u001b[43m                                    \u001b[49m\u001b[43mstdin\u001b[49m\u001b[38;5;241;43m=\u001b[39;49m\u001b[43mPIPE\u001b[49m\u001b[43m)\u001b[49m\n\u001b[0;32m     77\u001b[0m \u001b[38;5;28;01mexcept\u001b[39;00m \u001b[38;5;167;01mTypeError\u001b[39;00m:\n\u001b[0;32m     78\u001b[0m     \u001b[38;5;28;01mraise\u001b[39;00m\n",
      "File \u001b[1;32mc:\\Users\\rod_e\\miniconda3\\envs\\automatization\\lib\\subprocess.py:951\u001b[0m, in \u001b[0;36mPopen.__init__\u001b[1;34m(self, args, bufsize, executable, stdin, stdout, stderr, preexec_fn, close_fds, shell, cwd, env, universal_newlines, startupinfo, creationflags, restore_signals, start_new_session, pass_fds, user, group, extra_groups, encoding, errors, text, umask)\u001b[0m\n\u001b[0;32m    947\u001b[0m         \u001b[38;5;28;01mif\u001b[39;00m \u001b[38;5;28mself\u001b[39m\u001b[38;5;241m.\u001b[39mtext_mode:\n\u001b[0;32m    948\u001b[0m             \u001b[38;5;28mself\u001b[39m\u001b[38;5;241m.\u001b[39mstderr \u001b[38;5;241m=\u001b[39m io\u001b[38;5;241m.\u001b[39mTextIOWrapper(\u001b[38;5;28mself\u001b[39m\u001b[38;5;241m.\u001b[39mstderr,\n\u001b[0;32m    949\u001b[0m                     encoding\u001b[38;5;241m=\u001b[39mencoding, errors\u001b[38;5;241m=\u001b[39merrors)\n\u001b[1;32m--> 951\u001b[0m     \u001b[38;5;28;43mself\u001b[39;49m\u001b[38;5;241;43m.\u001b[39;49m\u001b[43m_execute_child\u001b[49m\u001b[43m(\u001b[49m\u001b[43margs\u001b[49m\u001b[43m,\u001b[49m\u001b[43m \u001b[49m\u001b[43mexecutable\u001b[49m\u001b[43m,\u001b[49m\u001b[43m \u001b[49m\u001b[43mpreexec_fn\u001b[49m\u001b[43m,\u001b[49m\u001b[43m \u001b[49m\u001b[43mclose_fds\u001b[49m\u001b[43m,\u001b[49m\n\u001b[0;32m    952\u001b[0m \u001b[43m                        \u001b[49m\u001b[43mpass_fds\u001b[49m\u001b[43m,\u001b[49m\u001b[43m \u001b[49m\u001b[43mcwd\u001b[49m\u001b[43m,\u001b[49m\u001b[43m \u001b[49m\u001b[43menv\u001b[49m\u001b[43m,\u001b[49m\n\u001b[0;32m    953\u001b[0m \u001b[43m                        \u001b[49m\u001b[43mstartupinfo\u001b[49m\u001b[43m,\u001b[49m\u001b[43m \u001b[49m\u001b[43mcreationflags\u001b[49m\u001b[43m,\u001b[49m\u001b[43m \u001b[49m\u001b[43mshell\u001b[49m\u001b[43m,\u001b[49m\n\u001b[0;32m    954\u001b[0m \u001b[43m                        \u001b[49m\u001b[43mp2cread\u001b[49m\u001b[43m,\u001b[49m\u001b[43m \u001b[49m\u001b[43mp2cwrite\u001b[49m\u001b[43m,\u001b[49m\n\u001b[0;32m    955\u001b[0m \u001b[43m                        \u001b[49m\u001b[43mc2pread\u001b[49m\u001b[43m,\u001b[49m\u001b[43m \u001b[49m\u001b[43mc2pwrite\u001b[49m\u001b[43m,\u001b[49m\n\u001b[0;32m    956\u001b[0m \u001b[43m                        \u001b[49m\u001b[43merrread\u001b[49m\u001b[43m,\u001b[49m\u001b[43m \u001b[49m\u001b[43merrwrite\u001b[49m\u001b[43m,\u001b[49m\n\u001b[0;32m    957\u001b[0m \u001b[43m                        \u001b[49m\u001b[43mrestore_signals\u001b[49m\u001b[43m,\u001b[49m\n\u001b[0;32m    958\u001b[0m \u001b[43m                        \u001b[49m\u001b[43mgid\u001b[49m\u001b[43m,\u001b[49m\u001b[43m \u001b[49m\u001b[43mgids\u001b[49m\u001b[43m,\u001b[49m\u001b[43m \u001b[49m\u001b[43muid\u001b[49m\u001b[43m,\u001b[49m\u001b[43m \u001b[49m\u001b[43mumask\u001b[49m\u001b[43m,\u001b[49m\n\u001b[0;32m    959\u001b[0m \u001b[43m                        \u001b[49m\u001b[43mstart_new_session\u001b[49m\u001b[43m)\u001b[49m\n\u001b[0;32m    960\u001b[0m \u001b[38;5;28;01mexcept\u001b[39;00m:\n\u001b[0;32m    961\u001b[0m     \u001b[38;5;66;03m# Cleanup if the child failed starting.\u001b[39;00m\n\u001b[0;32m    962\u001b[0m     \u001b[38;5;28;01mfor\u001b[39;00m f \u001b[38;5;129;01min\u001b[39;00m \u001b[38;5;28mfilter\u001b[39m(\u001b[38;5;28;01mNone\u001b[39;00m, (\u001b[38;5;28mself\u001b[39m\u001b[38;5;241m.\u001b[39mstdin, \u001b[38;5;28mself\u001b[39m\u001b[38;5;241m.\u001b[39mstdout, \u001b[38;5;28mself\u001b[39m\u001b[38;5;241m.\u001b[39mstderr)):\n",
      "File \u001b[1;32mc:\\Users\\rod_e\\miniconda3\\envs\\automatization\\lib\\subprocess.py:1436\u001b[0m, in \u001b[0;36mPopen._execute_child\u001b[1;34m(self, args, executable, preexec_fn, close_fds, pass_fds, cwd, env, startupinfo, creationflags, shell, p2cread, p2cwrite, c2pread, c2pwrite, errread, errwrite, unused_restore_signals, unused_gid, unused_gids, unused_uid, unused_umask, unused_start_new_session)\u001b[0m\n\u001b[0;32m   1434\u001b[0m \u001b[38;5;66;03m# Start the process\u001b[39;00m\n\u001b[0;32m   1435\u001b[0m \u001b[38;5;28;01mtry\u001b[39;00m:\n\u001b[1;32m-> 1436\u001b[0m     hp, ht, pid, tid \u001b[38;5;241m=\u001b[39m \u001b[43m_winapi\u001b[49m\u001b[38;5;241;43m.\u001b[39;49m\u001b[43mCreateProcess\u001b[49m\u001b[43m(\u001b[49m\u001b[43mexecutable\u001b[49m\u001b[43m,\u001b[49m\u001b[43m \u001b[49m\u001b[43margs\u001b[49m\u001b[43m,\u001b[49m\n\u001b[0;32m   1437\u001b[0m \u001b[43m                             \u001b[49m\u001b[38;5;66;43;03m# no special security\u001b[39;49;00m\n\u001b[0;32m   1438\u001b[0m \u001b[43m                             \u001b[49m\u001b[38;5;28;43;01mNone\u001b[39;49;00m\u001b[43m,\u001b[49m\u001b[43m \u001b[49m\u001b[38;5;28;43;01mNone\u001b[39;49;00m\u001b[43m,\u001b[49m\n\u001b[0;32m   1439\u001b[0m \u001b[43m                             \u001b[49m\u001b[38;5;28;43mint\u001b[39;49m\u001b[43m(\u001b[49m\u001b[38;5;129;43;01mnot\u001b[39;49;00m\u001b[43m \u001b[49m\u001b[43mclose_fds\u001b[49m\u001b[43m)\u001b[49m\u001b[43m,\u001b[49m\n\u001b[0;32m   1440\u001b[0m \u001b[43m                             \u001b[49m\u001b[43mcreationflags\u001b[49m\u001b[43m,\u001b[49m\n\u001b[0;32m   1441\u001b[0m \u001b[43m                             \u001b[49m\u001b[43menv\u001b[49m\u001b[43m,\u001b[49m\n\u001b[0;32m   1442\u001b[0m \u001b[43m                             \u001b[49m\u001b[43mcwd\u001b[49m\u001b[43m,\u001b[49m\n\u001b[0;32m   1443\u001b[0m \u001b[43m                             \u001b[49m\u001b[43mstartupinfo\u001b[49m\u001b[43m)\u001b[49m\n\u001b[0;32m   1444\u001b[0m \u001b[38;5;28;01mfinally\u001b[39;00m:\n\u001b[0;32m   1445\u001b[0m     \u001b[38;5;66;03m# Child is launched. Close the parent's copy of those pipe\u001b[39;00m\n\u001b[0;32m   1446\u001b[0m     \u001b[38;5;66;03m# handles that only the child should have open.  You need\u001b[39;00m\n\u001b[1;32m   (...)\u001b[0m\n\u001b[0;32m   1449\u001b[0m     \u001b[38;5;66;03m# pipe will not close when the child process exits and the\u001b[39;00m\n\u001b[0;32m   1450\u001b[0m     \u001b[38;5;66;03m# ReadFile will hang.\u001b[39;00m\n\u001b[0;32m   1451\u001b[0m     \u001b[38;5;28mself\u001b[39m\u001b[38;5;241m.\u001b[39m_close_pipe_fds(p2cread, p2cwrite,\n\u001b[0;32m   1452\u001b[0m                          c2pread, c2pwrite,\n\u001b[0;32m   1453\u001b[0m                          errread, errwrite)\n",
      "\u001b[1;31mOSError\u001b[0m: [WinError 216] This version of %1 is not compatible with the version of Windows you're running. Check your computer's system information and then contact the software publisher"
     ]
    }
   ],
   "source": [
    "from selenium import webdriver\n",
    "\n",
    "browser = webdriver.Edge('./msedgedriver.exe')\n",
    "\n",
    "browser.get('https://httpbin.org/forms/post')\n",
    "\n",
    "# Add a value in the customer name field. Remember that it is called custname:\n",
    "custname = browser.find_element_by_name(\"custname\")\n",
    "custname.clear()\n",
    "custname.send_keys(\"Sean O'Connell\")"
   ]
  }
 ],
 "metadata": {
  "kernelspec": {
   "display_name": "automatization",
   "language": "python",
   "name": "python3"
  },
  "language_info": {
   "codemirror_mode": {
    "name": "ipython",
    "version": 3
   },
   "file_extension": ".py",
   "mimetype": "text/x-python",
   "name": "python",
   "nbconvert_exporter": "python",
   "pygments_lexer": "ipython3",
   "version": "3.9.19"
  }
 },
 "nbformat": 4,
 "nbformat_minor": 2
}

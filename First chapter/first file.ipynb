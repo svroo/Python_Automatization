{
 "cells": [
  {
   "cell_type": "markdown",
   "metadata": {},
   "source": [
    "## String Manipulation\n",
    "\n",
    "We'll define a basic piece of text and transform it into its mai components; then, we'll reconstruct it. As an example, a report needs to be transformed into a new format to be tramsfpr,ed omtp a mew format to be sent via email.\n",
    "\n",
    "The input format we'll use in this example will be this:\n",
    "\n",
    "    AFTER THE CLOSE OF THE SECOND QUARTER, OUR COMPANY, CASTAÑACORP\n",
    "    HAS ACHIEVED A GROWTH IN THE REVENUE OF 7.47%. THIS IS IN LINE\n",
    "    WITH THE OBJECTIVES FOR THE YEAR. THE MAIN DRIVER OF THE SALES HAS \n",
    "\n",
    "BEEN\n",
    "\n",
    "    THE NEW PACKAGE DESIGNED UNDER THE SUPERVISION OF OUR MARKETING \n",
    "\n",
    "DEPARTMENT.\n",
    "\n",
    "    OUR EXPENSES HAS BEEN CONTAINED, INCREASING ONLY BY 0.7%, THOUGH THE \n",
    "\n",
    "BOARD\n",
    "\n",
    "    CONSIDERS IT NEEDS TO BE FURTHER REDUCED. THE EVALUATION IS \n",
    "\n",
    "SATISFACTORY\n",
    "\n",
    "    AND THE FORECAST FOR THE NEXT QUARTER IS OPTIMISTIC. THE BOARD \n",
    "EXPECTS\n",
    "\n",
    "    AN INCREASE IN PROFIT OF AT LEAST 2 MILLION DOLLARS.\n",
    "\n",
    "\n",
    " We need to redact the text to eliminate any references to numbers. It needs to \n",
    "be properly formatted by adding a new line after each period, justified with 80 \n",
    "characters, and transformed into ASCII for compatibility reasons.\n",
    " The text will be stored in the INPUT_TEXT variable in the interpreter.\n",
    "\n",
    "\n",
    " #### How to do it\n",
    "\n",
    " "
   ]
  },
  {
   "cell_type": "code",
   "execution_count": 1,
   "metadata": {},
   "outputs": [
    {
     "name": "stdout",
     "output_type": "stream",
     "text": [
      " After The Close Of The Second Quarter, Our Company, Casta?Acorp Has Achieved A\n",
      " Growth In The Revenue Of X.Xx%.\n",
      "\n",
      " This Is In Line With The Objectives For The Year.\n",
      "\n",
      " The Main Driver Of The Sales Has Been The New Package Designed Under The\n",
      " Supervision Of Our Marketing Department.\n",
      "\n",
      " Our Expenses Has Been Contained, Increasing Only By X.X%, Though The Board\n",
      " Considers It Needs To Be Further Reduced.\n",
      "\n",
      " The Evaluation Is Satisfactory And The Forecast For The Next Quarter Is\n",
      " Optimistic.\n",
      "\n"
     ]
    }
   ],
   "source": [
    "# After entering the text, split it into individual words:\n",
    "INPUT_TEXT = \"\"\" \n",
    " AFTER THE CLOSE OF THE SECOND QUARTER, OUR COMPANY, CASTAÑACORP\n",
    "    HAS ACHIEVED A GROWTH IN THE REVENUE OF 7.47%. THIS IS IN LINE\n",
    "    WITH THE OBJECTIVES FOR THE YEAR. THE MAIN DRIVER OF THE SALES HAS \n",
    "BEEN\n",
    "    THE NEW PACKAGE DESIGNED UNDER THE SUPERVISION OF OUR MARKETING \n",
    "DEPARTMENT.\n",
    "    OUR EXPENSES HAS BEEN CONTAINED, INCREASING ONLY BY 0.7%, THOUGH THE \n",
    "BOARD\n",
    "    CONSIDERS IT NEEDS TO BE FURTHER REDUCED. THE EVALUATION IS \n",
    "SATISFACTORY\n",
    "    AND THE FORECAST FOR THE NEXT QUARTER IS OPTIMISTIC. THE BOARD \n",
    "EXPECTS\n",
    "    AN INCREASE IN PROFIT OF AT LEAST 2 MILLION DOLLARS.\n",
    "\"\"\"\n",
    "\n",
    "words = INPUT_TEXT.split()\n",
    "\n",
    "# Replace any numerical digits with an 'X'character:\n",
    "redacted = [\"\".join(\"X\" if w.isdigit() else w for w in word) for word in words]\n",
    "\n",
    "# Transform the text into pure ASCII (note that the name of the company contains the letter ñ, which is not ASCII):\n",
    "ascii_text = [word.encode('ascii', errors='replace').decode('ascii') for word in redacted]\n",
    "\n",
    "# Group the words into 80-character lines:\n",
    "newlines = [word + '\\n' if word.endswith('.') else word for word in ascii_text]\n",
    "LINE_SIZE = 80\n",
    "lines = []\n",
    "line = ''\n",
    "for word in newlines:\n",
    "    if line.endswith('\\n') or (len(line) + len(word) +1) > LINE_SIZE:\n",
    "        lines.append(line)\n",
    "        line = ''\n",
    "    line = line + ' ' + word\n",
    "    \n",
    "# Format all of the lines as titles and join them as a single piece of text:\n",
    "lines = [line.title() for line in lines]\n",
    "result = '\\n'.join(lines)\n",
    "\n",
    "# Print the result\n",
    "print(result)"
   ]
  },
  {
   "cell_type": "markdown",
   "metadata": {},
   "source": [
    "### Getting ready\n",
    "\n",
    "Imagine that we need to parse information sotres in sales logs. We'll use a sales log withthe followig structure:\n",
    "\n",
    "```\n",
    "[<Timestamp in iso format>] - SALE - PRODUCT: <product id> - PRICE: $<price of the sale>\n",
    "```\n",
    "\n",
    "Note that the price has a leading zero. All prices will have two digits for the dollars and two for the cents.\n",
    "\n",
    "\n",
    "<div align='center' width ='250 px' background='gray'>\n",
    "<p>The standard ISO 8601 defines standard ways of representing the time and date. It's widely used in the computing world and can be parsed and generate by vistually any computer language.</p>\n",
    "<div>"
   ]
  },
  {
   "cell_type": "code",
   "execution_count": 2,
   "metadata": {},
   "outputs": [
    {
     "name": "stdout",
     "output_type": "stream",
     "text": [
      "hora: Delorean(datetime=datetime.datetime(2018, 5, 5, 11, 7, 12, 267897), timezone='UTC') \n",
      "Id: 1345 \n",
      "Precio: 9.99\n"
     ]
    }
   ],
   "source": [
    "# In the python interpreter, make the following imports. REmember to activate your vitualenv, as describen in the Creating a virtual enviroment recipe:\n",
    "import delorean\n",
    "from decimal import Decimal\n",
    "\n",
    "# Enter the log to parse:\n",
    "log = \"[2018-05-05T11:07:12.267897] - SALE - PRODUCT: 1345 - PRICE: $09.99\"\n",
    "\n",
    "# Split the log into its parts, which are divided by - (note the space before and after the dash). We ignore the SALE part as it doesn't add any relevant information:\n",
    "divide_it = log.split(\" - \")\n",
    "timestamp_string, _, product_string, price_string = divide_it\n",
    "\n",
    "# Patse the timestamp into a datetime object\n",
    "timestamp = delorean.parse(timestamp_string.strip(\"[]\"))\n",
    "\n",
    "# Parse the product_id into an integer:\n",
    "product_id = int(product_string.split(\":\")[-1])\n",
    "\n",
    "# Parse the price into a Decimal type:\n",
    "price = Decimal(price_string.split(\"$\")[-1])\n",
    "\n",
    "# Now you have all of the values in native PYthon format:\n",
    "print(\"hora:\", timestamp, \"\\nId:\", product_id, \"\\nPrecio:\", price)"
   ]
  },
  {
   "cell_type": "markdown",
   "metadata": {},
   "source": [
    "### There's more...\n",
    "\n",
    "These log elements can be combined together into a single object, helping to parse ad aggregate them. For example, we could define a class in Python code in the following way:"
   ]
  },
  {
   "cell_type": "code",
   "execution_count": 3,
   "metadata": {},
   "outputs": [
    {
     "name": "stdout",
     "output_type": "stream",
     "text": [
      "<PriceLog (Delorean(datetime=datetime.datetime(2018, 5, 5, 11, 7, 12, 267897), timezone='UTC'), 1345, 9.99)>\n"
     ]
    }
   ],
   "source": [
    "class PriceLog(object):\n",
    "    def __init__(self, timestamp, product_id, price):\n",
    "        self.timestamp = timestamp\n",
    "        self.product_id = product_id\n",
    "        self.price = price\n",
    "\n",
    "    def __repr__(self):\n",
    "        return '<PriceLog ({}, {}, {})>'.format(self.timestamp,\n",
    "                                                self.product_id,\n",
    "                                                self.price)\n",
    "\n",
    "    @classmethod\n",
    "    def parse(cls, text_log):\n",
    "        \"\"\"Parse from a text log with the format\n",
    "        [<timestamp>] - SALE - PRODUCT: <product_id> - PRICE: $<price>\n",
    "        to a PriceLog object\n",
    "\n",
    "        Args:\n",
    "            text_log (_type_): _description_\n",
    "        \"\"\"\n",
    "\n",
    "        divide_id = text_log.split(' - ')\n",
    "        tmp_string, _, product_string, price_string = divide_it\n",
    "        timestamp = delorean.parse(tmp_string.strip(\"[]\"))\n",
    "        product_id = int(product_string.split(':')[-1])\n",
    "        price = Decimal(price_string.split('$')[-1])\n",
    "        return cls(timestamp=timestamp, product_id= product_id, price = price)\n",
    "    \n",
    "    \n",
    "# So, the parsing can be done as follows:\n",
    "log = '[2018-05-05T12:58:59.998903] - SALE - PRODUCT: 897 - PRICE: $17.99'\n",
    "print(PriceLog.parse(log))"
   ]
  },
  {
   "cell_type": "markdown",
   "metadata": {},
   "source": [
    "### Usinga third-party tool-parse\n",
    "\n",
    "A more advanced option is to use regular expressions,as we'll see in the next recipe. But there's a great module in python called *parse*. which allows us to reverse format string. It is a fantastic tool that's powerful, easy to use, and greatly imporves the readability of code.\n",
    "\n",
    "##### How to do it..."
   ]
  },
  {
   "cell_type": "code",
   "execution_count": 5,
   "metadata": {},
   "outputs": [
    {
     "name": "stdout",
     "output_type": "stream",
     "text": [
      "<Result () {'date': '2018-05-06T12:58:00.714611', 'product': '1345', 'price': '09.99'}>\n",
      "2018-05-06T12:58:00.714611\n",
      "1345\n",
      "09.99\n",
      "<Result () {'date': datetime.datetime(2018, 5, 6, 12, 58, 0, 714611), 'product': 1345, 'price': 9.99}>\n",
      "2018-05-06 12:58:00.714611\n",
      "1345\n",
      "9.99\n"
     ]
    },
    {
     "data": {
      "text/plain": [
       "<Result () {'date': datetime.datetime(2018, 5, 6, 12, 58, 0, 714611), 'product': 1345, 'price': Decimal('9.99')}>"
      ]
     },
     "execution_count": 5,
     "metadata": {},
     "output_type": "execute_result"
    }
   ],
   "source": [
    "# Import the parse function\n",
    "from parse import parse\n",
    "\n",
    "# Define the log to parse, in the same format as in the Extracting data from structured strings recipe:\n",
    "LOG = '[2018-05-06T12:58:00.714611] - SALE - PRODUCT: 1345 - PRICE: $09.99'\n",
    "\n",
    "# Analyze it and describe it as you would do when trying to print it, like this:\n",
    "FORMAT = '[{date}] - SALE - PRODUCT: {product} - PRICE: ${price}'\n",
    "\n",
    "\n",
    "# Run parse and check the results:\n",
    "results = parse(FORMAT, LOG)\n",
    "print(results)\n",
    "print(results['date'])\n",
    "print(results['product'])\n",
    "print(results['price'])\n",
    "\n",
    "# Nothe the results are all strings. Define the types to be parsed:\n",
    "FORMAT = '[{date:ti}] - SALE - PRODUCT: {product:d} - PRICE: ${price:05.2f}'\n",
    "\n",
    "# Parse once again:\n",
    "result = parse(FORMAT, LOG)\n",
    "print(result)\n",
    "print(result[\"date\"])\n",
    "print(result[\"product\"])\n",
    "print(result[\"price\"])\n",
    "\n",
    "# Define a custom type for the price to avoid issues with the float type:\n",
    "\n",
    "from decimal import Decimal\n",
    "\n",
    "\n",
    "def price(string):\n",
    "    return Decimal(string)\n",
    "\n",
    "FORMAT = '[{date:ti}] - SALE - PRODUCT: {product:d} - PRICE: ${price:price}'\n",
    "\n",
    "parse(FORMAT, LOG, {'price': price})"
   ]
  },
  {
   "cell_type": "markdown",
   "metadata": {},
   "source": [
    "### There's more...\n",
    "\n",
    "The timestamp can also be translated into a delorean object for consistency. Also, delorean objects carry over time zone information. Adding the same structure as in the previous recipe gives the following object, which is capable of parsing logs:"
   ]
  },
  {
   "cell_type": "code",
   "execution_count": 9,
   "metadata": {},
   "outputs": [
    {
     "data": {
      "text/plain": [
       "<PriceLog (Delorean(datetime=datetime.datetime(2018, 6, 5, 14, 58, 59, 51545), timezone='UTC'), 827, 22.25)>"
      ]
     },
     "execution_count": 9,
     "metadata": {},
     "output_type": "execute_result"
    }
   ],
   "source": [
    "import parse\n",
    "from decimal import Decimal\n",
    "import delorean\n",
    "\n",
    "class PriceLog(object):\n",
    "    def __init__(self, timestamp, product_id, price):\n",
    "        self.timestamp = timestamp\n",
    "        self.product_id = product_id\n",
    "        self.price = price\n",
    "\n",
    "    def __repr__(self):\n",
    "        return '<PriceLog ({}, {}, {})>'.format(self.timestamp,\n",
    "                                                self.product_id,\n",
    "                                                self.price)\n",
    "\n",
    "    @classmethod\n",
    "    def parse(cls, text_log):\n",
    "        '''\n",
    "            Parse from a text log with the format\n",
    "            [<Timestamp>] - SALE - PRODUCT: <product id> - PRICE: $<price>     \n",
    "        to a PriceLog object\n",
    "        '''\n",
    "        def price(string):\n",
    "            return Decimal(string)\n",
    "        def isodate(string):\n",
    "            return delorean.parse(string)\n",
    "        \n",
    "        FORMAT = ('[{timestamp:isodate}] - SALE - PRODUCT: {product:d} - PRICE: ${price:price}')\n",
    "        formats = {'price': price, 'isodate': isodate}\n",
    "        result = parse.parse(FORMAT, text_log, formats)\n",
    "        \n",
    "        return cls(timestamp=result['timestamp'],\n",
    "                    product_id=result['product'],\n",
    "                    price=result['price']\n",
    "                )\n",
    "\n",
    "# So, parsing it returns similar results:\n",
    "log = '[2018-05-06T14:58:59.051545] - SALE - PRODUCT: 827 - PRICE: $22.25'\n",
    "\n",
    "PriceLog.parse(log)"
   ]
  },
  {
   "cell_type": "markdown",
   "metadata": {},
   "source": [
    "### REGEX\n",
    "\n",
    "##### Getting ready\n",
    "\n",
    "The python module to deal with regexes is called re. The main function we'll cover is re.search(), which return a match object with information about what matched the pattern.\n",
    "\n",
    "Some characters are special and refer to concepts such as the end of the string, any digit, any character, any whitespace character, and so on.\n",
    "\n",
    "The simplest form is just a literal string. For example, the regex pattern r'LOG' matches the string 'LOGS', but not the string 'NOT A MATCH'. If there's no match, re.search returns None. If there is, it returns a special Match Object:"
   ]
  },
  {
   "cell_type": "code",
   "execution_count": 11,
   "metadata": {},
   "outputs": [],
   "source": [
    "import re\n",
    "\n",
    "re.search(r'LOG', 'LOGS')\n",
    "\n",
    "re.search(r'LOG', 'NOT A MATCH')"
   ]
  },
  {
   "cell_type": "markdown",
   "metadata": {},
   "source": [
    "### How to do it\n"
   ]
  },
  {
   "cell_type": "code",
   "execution_count": 24,
   "metadata": {},
   "outputs": [
    {
     "name": "stdout",
     "output_type": "stream",
     "text": [
      "<re.Match object; span=(5, 8), match='LOG'>\n",
      "<re.Match object; span=(0, 3), match='LOG'>\n",
      "None\n",
      "First: some \n",
      "Second: thing \n",
      "Fin:  in the things she shows me\n",
      "First: something in the  \n",
      "Second: thing \n",
      "Fin: s she shows me\n",
      "<re.Match object; span=(20, 32), match='1234-567-890'>\n",
      "1234-567-890\n"
     ]
    },
    {
     "data": {
      "text/plain": [
       "'email.123@test.com'"
      ]
     },
     "execution_count": 24,
     "metadata": {},
     "output_type": "execute_result"
    }
   ],
   "source": [
    "# Import the re module:\n",
    "import re\n",
    "\n",
    "# Then, match a pattern that is not at the start of the string:\n",
    "print(re.search(r\"LOG\", \"SOME LOGS\"))\n",
    "\n",
    "# Match a pattern that is only at the start of the string. Note the ^ character:\n",
    "print(re.search(r\"^LOG\", \"LOGS\"))\n",
    "print(re.search(r\"^LOG\", \"SOME LOGS\"))\n",
    "\n",
    "# Match the word 'thing' (not excluding things), but not something or anything. Note the \\b at the start of the second pattern:\n",
    "STRING = \"something in the things she shows me\"\n",
    "match = re.search(r\"thing\", STRING)\n",
    "print(\n",
    "    \"First:\",\n",
    "    STRING[: match.start()],\n",
    "    \"\\nSecond:\",\n",
    "    STRING[match.start() : match.end()],\n",
    "    \"\\nFin:\",\n",
    "    STRING[match.end() :],\n",
    ")\n",
    "\n",
    "match = re.search(r\"\\bthing\", STRING)\n",
    "print(\n",
    "    \"First:\",\n",
    "    STRING[: match.start()],\n",
    "    \"\\nSecond:\",\n",
    "    STRING[match.start() : match.end()],\n",
    "    \"\\nFin:\",\n",
    "    STRING[match.end() :],\n",
    ")\n",
    "\n",
    "# Match a pattern that's only numbers and dashes (for example, a phone number). Retrieve the matches string:\n",
    "print(re.search(r'[0123456789-]+', 'the phone number is 1234-567-890'))\n",
    "\n",
    "print(re.search(r'[0123456789-]+', 'the phone number is 1234-567-890').group())\n",
    "\n",
    "# Match an email address naively:\n",
    "re.search(r'\\S+@\\S+', 'my email is email.123@test.com').group()"
   ]
  },
  {
   "cell_type": "markdown",
   "metadata": {},
   "source": [
    "Note that the result will always be a string. It can be further processed using any of the methods that we've previusly seen, such as by splitting the pohone number inot groups by dashes, for example:"
   ]
  },
  {
   "cell_type": "code",
   "execution_count": 25,
   "metadata": {},
   "outputs": [
    {
     "data": {
      "text/plain": [
       "[1234, 567, 890]"
      ]
     },
     "execution_count": 25,
     "metadata": {},
     "output_type": "execute_result"
    }
   ],
   "source": [
    "match = re.search(r'[0123456789-]+', 'the phone number is 1234-567-890')\n",
    "[int(n) for n in match.group().split('-')]"
   ]
  },
  {
   "cell_type": "markdown",
   "metadata": {},
   "source": [
    "### Going deeper into regular expressions\n",
    "\n",
    "In this recipe, we'll learn more about how to deal with regular expressions. After introducing the basics, we will dig a little deeper into pattern elements, introduce groups as a better way to retrieve and parse strings, learn how to search for multiple occurrences of the same string, and deal with longer texts.\n",
    "\n",
    "## How to do it..."
   ]
  },
  {
   "cell_type": "code",
   "execution_count": 35,
   "metadata": {},
   "outputs": [
    {
     "name": "stdout",
     "output_type": "stream",
     "text": [
      "the phone number is 1234-567-890\n",
      "1234-567-890\n",
      "<re.Match object; span=(11, 43), match='the answer to question 3b is YES'>\n",
      "('3b', 'YES')\n"
     ]
    },
    {
     "data": {
      "text/plain": [
       "('X while the knights are native of Corvallis', 'OR')"
      ]
     },
     "execution_count": 35,
     "metadata": {},
     "output_type": "execute_result"
    }
   ],
   "source": [
    "import re\n",
    "\n",
    "# Match a phone pattern as part of a group (in bracckets). Note the use of \\d as a special character for any digit:\n",
    "match = re.search(r'the phone number is ([\\d-]+)', '37: the phone number is 1234-567-890')\n",
    "print(match.group())\n",
    "print(match.group(1))\n",
    "\n",
    "# Compile a pattern and capture a case-insensitive pattern with a yes|no option:\n",
    "pattern = re.compile(r'The answer to question (\\w+) is (yes|no)', re.IGNORECASE)\n",
    "print(pattern.search(\"Naturally, the answer to question 3b is YES\"))\n",
    "\n",
    "print(pattern.search('Naturally, the answer to question 3b is YES').groups())\n",
    "\n",
    "# Match all the occurrences of cities and state abbreviations in the text. Note that they are separated by a single character,\n",
    "# and the name of the city always start with an uppercase letter. Only four states are matched for simplicity:\n",
    "\n",
    "PATTERN = re.compile(r'([A-Z] [\\w\\s]+?).(TX|OR|OH|MI)')\n",
    "TEXT = 'the jackalopes are the team of Odessa, TX while the knights are native of Corvallis OR and the mud hens come from Toledo.OH; the whitecaps have their base in Grand Rapids,MI'\n",
    "list(PATTERN.finditer(TEXT))\n",
    "\n",
    "_[0].groups()"
   ]
  },
  {
   "cell_type": "markdown",
   "metadata": {},
   "source": [
    "Patterns can be compiled as well. This saves some time if the pattern needs to be matched over and over. To use it that way, compile the pattern and then use that object to perform searches, as shown in steps 3 and 4. Some extra flags can be added, such as making the pattern case inseensitive."
   ]
  },
  {
   "cell_type": "code",
   "execution_count": 40,
   "metadata": {},
   "outputs": [
    {
     "name": "stdout",
     "output_type": "stream",
     "text": [
      "<re.Match object; span=(74, 123), match='Corvallis OR and the mud hens come from Toledo.OH>\n",
      "None\n",
      "<re.Match object; span=(0, 31), match='This is a test with Escanaba MI'>\n"
     ]
    },
    {
     "data": {
      "text/plain": [
       "(<re.Match object; span=(31, 40), match='Odessa,TX'>,\n",
       " [('Odessa', 'TX'),\n",
       "  ('Corvallis OR and the mud hens come from Toledo', 'OH'),\n",
       "  ('Grand Rapids', 'MI')])"
      ]
     },
     "execution_count": 40,
     "metadata": {},
     "output_type": "execute_result"
    }
   ],
   "source": [
    "PATTERN = re.compile(r'([A-Z][\\w\\s]+).(TX|OR|OH|MI)')\n",
    "TEXT = \"\"\"the jackalopes are the team of Odessa,TX while the knights \n",
    "are native of Corvallis OR and the mud hens come from Toledo.OH; the \n",
    "whitecaps have their base in Grand Rapids,MI\"\"\"\n",
    "\n",
    "print(list(PATTERN.finditer(TEXT))[1])\n",
    "\n",
    "print(re.search(r'([A-Z] [\\w\\s]+?).(TX|OR|OH|MI)', 'This is a test, Escanaba MI'))\n",
    "\n",
    "print(re.search(r'([A-Z][\\w\\s]+?).(TX|OR|OH|MI)', 'This is a test with Escanaba MI'))\n",
    "\n",
    "PATTERN.search(TEXT), PATTERN.findall(TEXT)"
   ]
  },
  {
   "cell_type": "markdown",
   "metadata": {},
   "source": [
    "## Adding command-line arguments\n",
    "\n",
    "A lot of tasks can be best structured as a command-line interface that accepts different parameters to change the way it works, for example, scraping a web page from a provided URL or other URL. Python includes a powerful argparse module in the standard library to create rich command-line argument parsing with minimal effort.\n",
    "\n",
    "### Getting ready\n",
    "\n",
    "The basic use of argparse in a script can be shown in three steps:\n",
    "\n",
    "1. Define the arguments that your script is going to acept, generating a new parser.\n",
    "2. Call the defined parser, returning an object with all of the resulting arguments.\n",
    "3. Use the argumens to call the entry point of your script, which will apply the definend behavior.\n",
    "\n",
    "Try to use the following general structure for your scripts:\n",
    "\n",
    "```python 3\n",
    "IMPORTS\n",
    "def main(main parameters):\n",
    "    DO THINGS\n",
    "\n",
    "if __name__ == '__main__':\n",
    "    DEFINE ARGUMENT PARSER\n",
    "    PARSE ARGS\n",
    "    VALIDATE OR MANIPULATE ARGS, IF NEEDED\n",
    "    main(arguments)\n",
    "```\n",
    "\n",
    "The main function makes it easy to know what the entry point for the code is. The section under the if statement is only exwcuted if the file is called directly, but not if it's imported. We'll follow this for all the steps.\n",
    "\n",
    "### How to do it...\n",
    "\n",
    "1. Create a script  tthat will acept a single integer as a positional argument, and will print a hash symbol that amount of times. The recipe_cli_step1.py script is as follows, but note that we are following the structure presented previously, an the `main` function is just printing the argument"
   ]
  },
  {
   "cell_type": "code",
   "execution_count": 42,
   "metadata": {},
   "outputs": [
    {
     "name": "stderr",
     "output_type": "stream",
     "text": [
      "usage: ipykernel_launcher.py [-h] number\n",
      "ipykernel_launcher.py: error: the following arguments are required: number\n"
     ]
    },
    {
     "ename": "SystemExit",
     "evalue": "2",
     "output_type": "error",
     "traceback": [
      "An exception has occurred, use %tb to see the full traceback.\n",
      "\u001b[1;31mSystemExit\u001b[0m\u001b[1;31m:\u001b[0m 2\n"
     ]
    },
    {
     "name": "stderr",
     "output_type": "stream",
     "text": [
      "c:\\Users\\rod_e\\miniconda3\\envs\\automatization\\lib\\site-packages\\IPython\\core\\interactiveshell.py:3558: UserWarning: To exit: use 'exit', 'quit', or Ctrl-D.\n",
      "  warn(\"To exit: use 'exit', 'quit', or Ctrl-D.\", stacklevel=1)\n"
     ]
    }
   ],
   "source": [
    "import argparse\n",
    "\n",
    "def main(number):\n",
    "    print('#' * number)\n",
    "    \n",
    "if __name__ =='__main__':\n",
    "    parser =  argparse.ArgumentParser()\n",
    "    parser.add_argument('number', type=int, help= 'A number')\n",
    "    args = parser.parse_args()\n",
    "    \n",
    "    main(args.number)"
   ]
  },
  {
   "cell_type": "code",
   "execution_count": 43,
   "metadata": {},
   "outputs": [
    {
     "name": "stderr",
     "output_type": "stream",
     "text": [
      "usage: ipykernel_launcher.py [-h] [-c C] number\n",
      "ipykernel_launcher.py: error: the following arguments are required: number\n"
     ]
    },
    {
     "ename": "SystemExit",
     "evalue": "2",
     "output_type": "error",
     "traceback": [
      "An exception has occurred, use %tb to see the full traceback.\n",
      "\u001b[1;31mSystemExit\u001b[0m\u001b[1;31m:\u001b[0m 2\n"
     ]
    },
    {
     "name": "stderr",
     "output_type": "stream",
     "text": [
      "c:\\Users\\rod_e\\miniconda3\\envs\\automatization\\lib\\site-packages\\IPython\\core\\interactiveshell.py:3558: UserWarning: To exit: use 'exit', 'quit', or Ctrl-D.\n",
      "  warn(\"To exit: use 'exit', 'quit', or Ctrl-D.\", stacklevel=1)\n"
     ]
    }
   ],
   "source": [
    "import argparse\n",
    "\n",
    "def main(character, number):\n",
    "    print(character* number)\n",
    "    \n",
    "if __name__ == '__main__':\n",
    "    parser = argparse.ArgumentParser()\n",
    "    parser.add_argument('number', type=int, help='A number')\n",
    "    parser.add_argument('-c', type=str, help='character to print', default=\"#\")\n",
    "    args = parser.parse_args()\n",
    "    main(args.c, args.number)"
   ]
  },
  {
   "cell_type": "code",
   "execution_count": 45,
   "metadata": {},
   "outputs": [
    {
     "name": "stderr",
     "output_type": "stream",
     "text": [
      "usage: ipykernel_launcher.py [-h] [-c C] [-U] number\n",
      "ipykernel_launcher.py: error: the following arguments are required: number\n"
     ]
    },
    {
     "ename": "SystemExit",
     "evalue": "2",
     "output_type": "error",
     "traceback": [
      "An exception has occurred, use %tb to see the full traceback.\n",
      "\u001b[1;31mSystemExit\u001b[0m\u001b[1;31m:\u001b[0m 2\n"
     ]
    },
    {
     "name": "stderr",
     "output_type": "stream",
     "text": [
      "c:\\Users\\rod_e\\miniconda3\\envs\\automatization\\lib\\site-packages\\IPython\\core\\interactiveshell.py:3558: UserWarning: To exit: use 'exit', 'quit', or Ctrl-D.\n",
      "  warn(\"To exit: use 'exit', 'quit', or Ctrl-D.\", stacklevel=1)\n"
     ]
    }
   ],
   "source": [
    "# Add a flag that changes the behavior when present. The `recipe_cli_step3.py` script is as follows\n",
    "\n",
    "import argparse\n",
    "\n",
    "def main(character, number):\n",
    "    print(character * number)\n",
    "    \n",
    "if __name__ == '__main__':\n",
    "    parser = argparse.ArgumentParser()\n",
    "    parser.add_argument('number', type=int, help='A number')\n",
    "    parser.add_argument('-c', type=str, help=\"character to print\", default=\"#\")\n",
    "    parser.add_argument('-U', action='store_true', default=False, dest='uppercase', help='Uppercase the character')\n",
    "    args = parser.parse_args()\n",
    "    \n",
    "    if args.uppercase:\n",
    "        args.c = args.c.cupper()\n",
    "    main(args.c, args.number)"
   ]
  }
 ],
 "metadata": {
  "kernelspec": {
   "display_name": "Python 3",
   "language": "python",
   "name": "python3"
  },
  "language_info": {
   "codemirror_mode": {
    "name": "ipython",
    "version": 3
   },
   "file_extension": ".py",
   "mimetype": "text/x-python",
   "name": "python",
   "nbconvert_exporter": "python",
   "pygments_lexer": "ipython3",
   "version": "3.9.19"
  }
 },
 "nbformat": 4,
 "nbformat_minor": 2
}

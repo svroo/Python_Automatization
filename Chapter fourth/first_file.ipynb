{
 "cells": [
  {
   "cell_type": "markdown",
   "metadata": {},
   "source": [
    "### Searching and reading local files\n",
    "\n",
    "In this chapter, we will introduce the basic operations to read information from files, starting with searching and opening files stored in different directories and subdirectories. Then, we'll describe some of the most common file types and how to read them, including formats such as raw text files, PDFs, and Word documents.\n",
    "\n",
    "The last recipe will seach for a word inside different kinds of files, recursively in a directory tree.\n",
    "\n",
    "We'll cover the following recipes:\n",
    "\n",
    "- Crawling and searching directories\n",
    "- Reading text files\n",
    "- Dealing with encodings\n",
    "- Reading CSV files\n",
    "- Reading log files\n",
    "- Reading file metadata\n",
    "- Reading images\n",
    "- Reading PDF files\n",
    "- Reading Word documents\n",
    "- Scanning documents for a keyword\n",
    "\n",
    "We will start by accessing all the files in a directory tree.\n",
    "\n",
    "### Crawling and searching directories\n",
    "\n",
    "In this recipe, we'll learn how to scan a directory recursively to get all the files \n",
    "contained there. That will include all the files in subdirectories. The matched files \n",
    "can be of a particular kind, like text files, or every single one of them.\n",
    "This is normally a starting operation when dealing with files, to detect all the \n",
    "existing ones.\n",
    "\n",
    "### Getting ready\n",
    "Let's start by creating a test directory with some file information:\n",
    "\n",
    "```\n",
    "$ mkdir dir\n",
    "$ touch dir/file1.txt\n",
    "$ touch dir/file2.txt\n",
    "$ mkdir dir/subdir\n",
    "$ touch dir/subdir/file3.txt\n",
    "$ touch dir/subdir/file4.txt\n",
    "$ touch dir/subdinr/file5.txt\n",
    "$ touch dir/file6.pdf\n",
    "```\n",
    "\n",
    "All the files will be empty; we will use them in this recipe only to dicover them. Notice there are four files that have a *.txt* extension, and two that have a *.pdf* extension.\n",
    "\n",
    "Enter the created dir directory\n",
    "```\n",
    "$ cd dir\n",
    "```\n",
    "\n",
    "### How to do it..."
   ]
  },
  {
   "cell_type": "code",
   "execution_count": 1,
   "metadata": {},
   "outputs": [
    {
     "name": "stdout",
     "output_type": "stream",
     "text": [
      "All files:\n",
      "file2.txt\n",
      "first_file.ipynb\n",
      "zen_of_python.txt\n",
      "file1.txt\n",
      "file3.txt\n",
      "file4.txt\n",
      "file5.pdf\n",
      "\n",
      "Full path of the files:\n",
      ".\\file2.txt\n",
      ".\\first_file.ipynb\n",
      ".\\zen_of_python.txt\n",
      ".\\dir\\file1.txt\n",
      ".\\dir\\subdir\\file3.txt\n",
      ".\\dir\\subdir\\file4.txt\n",
      ".\\dir\\subdir\\file5.pdf\n",
      "\n",
      "Only .pdf files:\n",
      ".\\dir\\subdir\\file5.pdf\n",
      "\n",
      "Only files that contain an even number:\n",
      ".\\dir\\file1.txt\n",
      ".\\dir\\subdir\\file3.txt\n",
      ".\\dir\\subdir\\file5.pdf\n"
     ]
    }
   ],
   "source": [
    "# Print all the filenmaes in the dir directory and subdirectories:\n",
    "import os\n",
    "\n",
    "print(\"All files:\")\n",
    "for root, dirs, files in os.walk(\".\"):\n",
    "    for file in files:\n",
    "        print(file)\n",
    "\n",
    "print(\"\\nFull path of the files:\")\n",
    "\n",
    "# print the full path of the files, joining with the root:\n",
    "for root, dirs, files in os.walk(\".\"):\n",
    "    for file in files:\n",
    "        full_file_path = os.path.join(root, file)\n",
    "        print(full_file_path)\n",
    "\n",
    "print(\"\\nOnly .pdf files:\")\n",
    "\n",
    "# Print only the .pdf files:\n",
    "for root, dirs, files in os.walk(\".\"):\n",
    "    for file in files:\n",
    "        if file.endswith(\".pdf\"):\n",
    "            full_file_path = os.path.join(root, file)\n",
    "            print(full_file_path)\n",
    "\n",
    "print(\"\\nOnly files that contain an even number:\")\n",
    "\n",
    "# print only files that contain an even number:\n",
    "import re\n",
    "\n",
    "for root, dirs, files in os.walk(\".\"):\n",
    "    for file in files:\n",
    "        if re.search(r\"[13579]\", file):\n",
    "            full_file_path = os.path.join(root, file)\n",
    "            print(full_file_path)"
   ]
  },
  {
   "cell_type": "markdown",
   "metadata": {},
   "source": [
    "### How it works...\n",
    "\n",
    "*os.walk()* goes through a whhile diretory and all subdirectories under it, returning all teh files. For each directory, it returns a tuple with the directory, any subdirectories under it, and all the files:"
   ]
  },
  {
   "cell_type": "code",
   "execution_count": 5,
   "metadata": {},
   "outputs": [
    {
     "name": "stdout",
     "output_type": "stream",
     "text": [
      "\n",
      "Raiz: . \n",
      "Directorios o carpetas: ['dir'] \n",
      "Archivos: ['file2.txt', 'first_file.ipynb', 'zen_of_python.txt']\n",
      "\n",
      "Raiz: .\\dir \n",
      "Directorios o carpetas: ['subdir'] \n",
      "Archivos: ['file1.txt']\n",
      "\n",
      "Raiz: .\\dir\\subdir \n",
      "Directorios o carpetas: [] \n",
      "Archivos: ['file3.txt', 'file4.txt', 'file5.pdf']\n"
     ]
    }
   ],
   "source": [
    "for root, dirs, files in os.walk(\".\"):\n",
    "    print(\"\\nRaiz:\", root, \"\\nDirectorios o carpetas:\", dirs, \"\\nArchivos:\", files)"
   ]
  },
  {
   "cell_type": "markdown",
   "metadata": {},
   "source": [
    "The *os.path.join()* function allows us to join two paths, such as the base path and the file.\n",
    "\n",
    "As path are returned as pure strings, any kind of filtering can be done, as in step 3. In step 4, the full power of regular expressions can be used to filter.\n",
    "\n",
    "In te next recipe, we'll deal with the content of the files, and not just the filename.\n",
    "\n",
    "### How to do it..."
   ]
  },
  {
   "cell_type": "code",
   "execution_count": 24,
   "metadata": {},
   "outputs": [
    {
     "name": "stdout",
     "output_type": "stream",
     "text": [
      "Errors should never pass silently.\n",
      "\n",
      "There should be one-- and preferably only one --obvious way to do it.\n",
      "\n",
      "Beautiful is better than ugly.\n",
      "\n"
     ]
    }
   ],
   "source": [
    "# Open and print the whole file line by line (The result is not diplayed):\n",
    "# with open('zen_of_python.txt') as file:\n",
    "#     for line in file:\n",
    "#         print(line)\n",
    "        \n",
    "# Open the file and print any line containing the string should:\n",
    "with open('zen_of_python.txt', 'r') as file:\n",
    "    for line in file:\n",
    "        if \"should\" in line.lower():\n",
    "            print(line)\n",
    "            \n",
    "# Open the file and print the first line containing the word better:\n",
    "with open('zen_of_python.txt', 'rt') as file:\n",
    "    for line in file:\n",
    "        if 'better' in line.lower():\n",
    "            print(line)\n",
    "            break"
   ]
  }
 ],
 "metadata": {
  "kernelspec": {
   "display_name": "automatization",
   "language": "python",
   "name": "python3"
  },
  "language_info": {
   "codemirror_mode": {
    "name": "ipython",
    "version": 3
   },
   "file_extension": ".py",
   "mimetype": "text/x-python",
   "name": "python",
   "nbconvert_exporter": "python",
   "pygments_lexer": "ipython3",
   "version": "3.9.19"
  }
 },
 "nbformat": 4,
 "nbformat_minor": 2
}
